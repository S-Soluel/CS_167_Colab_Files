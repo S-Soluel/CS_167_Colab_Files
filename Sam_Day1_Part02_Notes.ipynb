{
  "nbformat": 4,
  "nbformat_minor": 0,
  "metadata": {
    "colab": {
      "provenance": [],
      "authorship_tag": "ABX9TyPi5iM2L+oQQuTExxMwcaGg",
      "include_colab_link": true
    },
    "kernelspec": {
      "name": "python3",
      "display_name": "Python 3"
    },
    "language_info": {
      "name": "python"
    }
  },
  "cells": [
    {
      "cell_type": "markdown",
      "metadata": {
        "id": "view-in-github",
        "colab_type": "text"
      },
      "source": [
        "<a href=\"https://colab.research.google.com/github/S-Soluel/CS_167_Colab_Files/blob/main/Sam_Day1_Part02_Notes.ipynb\" target=\"_parent\"><img src=\"https://colab.research.google.com/assets/colab-badge.svg\" alt=\"Open In Colab\"/></a>"
      ]
    },
    {
      "cell_type": "markdown",
      "source": [
        "# Colab Tutorial\n",
        "Jan 3rd, 2023\n",
        "\n",
        "You can run Python code in Colab. Use the short cut `shift +return`\n",
        "\n",
        "Markdown basics:\n",
        "- **bold text** or __bold text__\n",
        "- *italicized*, _italicized_\n",
        "- `typewriter text`\n",
        "- [link name](insert link url)\n",
        "  - Look a new level of indentation\n",
        "- Can use Markdown Table generator to make tables easily\n",
        "\n",
        "---\n",
        "\n"
      ],
      "metadata": {
        "id": "tZIvVD0ih3PN"
      }
    },
    {
      "cell_type": "code",
      "source": [
        "x = 3 + 2\n",
        "x # don't have to do print(x), it'll automatically return the last line. If you don't want to print the last line, can put a semicolon at the end of code sections.\n"
      ],
      "metadata": {
        "colab": {
          "base_uri": "https://localhost:8080/"
        },
        "id": "ICSawV3Th9Yh",
        "outputId": "2b52eb42-2ae5-46e8-edb8-f67316ce31da"
      },
      "execution_count": 3,
      "outputs": [
        {
          "output_type": "execute_result",
          "data": {
            "text/plain": [
              "5"
            ]
          },
          "metadata": {},
          "execution_count": 3
        }
      ]
    },
    {
      "cell_type": "markdown",
      "source": [
        "## Python Lab | Review\n",
        "Note that each exercise in the code should be put in a separate cell. \n"
      ],
      "metadata": {
        "id": "NA1Nxdxvl0i8"
      }
    },
    {
      "cell_type": "markdown",
      "source": [
        "Exercise 1\n",
        "---"
      ],
      "metadata": {
        "id": "Z5QUdU5boPGL"
      }
    },
    {
      "cell_type": "code",
      "source": [
        "a=10\n",
        "b=3.14\n",
        "c = \"machine learning\"\n",
        "d = 'hi'\n",
        "e = 'x'\n",
        "f = [1,2,3]\n",
        "# I feel like this is a trick, but should print all a, b, c, d, e, and f in that order\n",
        "# The trick is that I feel as if f is going to contain a, b, and c. \n",
        "# Let's find out.\n",
        "\n",
        "# Update: it was a trick in a different way than I thought. \n",
        "# Much simpler, just had a list containing 1, 2, and 3. (Or maybe a tuple, might need to refresh on syntax)\n",
        "print(a,b,c,d,e,f)"
      ],
      "metadata": {
        "colab": {
          "base_uri": "https://localhost:8080/"
        },
        "id": "_ucUq3T4l0S-",
        "outputId": "dcfbf864-04aa-4372-cc25-ec124a7928c9"
      },
      "execution_count": 10,
      "outputs": [
        {
          "output_type": "stream",
          "name": "stdout",
          "text": [
            "10 3.14 machine learning hi x [1, 2, 3]\n"
          ]
        }
      ]
    },
    {
      "cell_type": "markdown",
      "source": [
        "Exercise 2\n",
        "---\n"
      ],
      "metadata": {
        "id": "ESV2Ixl2oMkq"
      }
    },
    {
      "cell_type": "code",
      "source": [
        "print(\"a's type:\", type(a))\n",
        "a = 'variables can change types'\n",
        "print(\"a's type:\", type(a))\n",
        "print(type(b))\n",
        "print(type(c))\n",
        "print(type(d))\n",
        "print(type(e))\n",
        "print(type(f))"
      ],
      "metadata": {
        "colab": {
          "base_uri": "https://localhost:8080/"
        },
        "id": "ZUuogtMcn2Ab",
        "outputId": "4812c69d-3090-4dc7-866b-72b63d241b58"
      },
      "execution_count": 8,
      "outputs": [
        {
          "output_type": "stream",
          "name": "stdout",
          "text": [
            "a's type: <class 'int'>\n",
            "a's type: <class 'str'>\n",
            "<class 'float'>\n",
            "<class 'str'>\n",
            "<class 'str'>\n",
            "<class 'str'>\n",
            "<class 'list'>\n"
          ]
        }
      ]
    },
    {
      "cell_type": "markdown",
      "source": [
        "Exercise 3\n",
        "---\n",
        "\n",
        "Outcome should be 'abc', 2, 3. Aka, y[0] is 'abc'."
      ],
      "metadata": {
        "id": "5_7BvmwAomED"
      }
    },
    {
      "cell_type": "code",
      "source": [
        "x = [1,2,3] \n",
        "y=x\n",
        "x[0] = \"abc\" \n",
        "print(y) \n",
        "#before you run, what will the value of y[0] be?"
      ],
      "metadata": {
        "colab": {
          "base_uri": "https://localhost:8080/"
        },
        "id": "9vOh48wkooFl",
        "outputId": "c914f717-6f44-4138-aa03-09c67677c968"
      },
      "execution_count": 11,
      "outputs": [
        {
          "output_type": "stream",
          "name": "stdout",
          "text": [
            "['abc', 2, 3]\n"
          ]
        }
      ]
    },
    {
      "cell_type": "markdown",
      "source": [
        "Exercise 4\n",
        "---\n",
        "Output prediction:\n",
        "z = x[1] should be 2. Print(x) should give us \"what\", and print(z) should give 2. \n",
        "\n",
        "Unsure what x.append does, but feels like it should be similar to 'updating' a value, while x.insert feels as if it should insert a new value into the list.\n",
        "\n",
        "Output info: forgot that x was a list, so it prints something different. \n",
        "x.append adds a value at the end of the list, while x.insert adds a new value at the specified index of the list. "
      ],
      "metadata": {
        "id": "4wArBimko6Wg"
      }
    },
    {
      "cell_type": "code",
      "source": [
        "z = x[1]\n",
        "x[1] = \"what\"\n",
        "print(x)\n",
        "print(z)\n",
        "x.append(70)\n",
        "x.insert(2,90)\n",
        "print(x)\n",
        "#can you predict what will be output?"
      ],
      "metadata": {
        "colab": {
          "base_uri": "https://localhost:8080/"
        },
        "id": "K7RZbd3yo-Xo",
        "outputId": "8b072102-3222-4727-e615-ed592cb556cd"
      },
      "execution_count": 12,
      "outputs": [
        {
          "output_type": "stream",
          "name": "stdout",
          "text": [
            "['abc', 'what', 3]\n",
            "2\n",
            "['abc', 'what', 90, 3, 70]\n"
          ]
        }
      ]
    },
    {
      "cell_type": "markdown",
      "source": [
        "Exercise 5\n",
        "---\n",
        "I think this should print 2, then print 5, and finally print a list that includes all the values from x+x. (So basically the values will all occur twice.\n",
        "\n",
        "Answer: Was correct in this case."
      ],
      "metadata": {
        "id": "mF-El3r1qIC_"
      }
    },
    {
      "cell_type": "code",
      "source": [
        "print( x.index(90) )\n",
        "print( len(x) )\n",
        "print( x+x )\n",
        "#can you predict what will be output?"
      ],
      "metadata": {
        "colab": {
          "base_uri": "https://localhost:8080/"
        },
        "id": "zAZGWOC0qKij",
        "outputId": "563cd435-3cd6-473e-ed39-88193b99c6d9"
      },
      "execution_count": 13,
      "outputs": [
        {
          "output_type": "stream",
          "name": "stdout",
          "text": [
            "2\n",
            "5\n",
            "['abc', 'what', 90, 3, 70, 'abc', 'what', 90, 3, 70]\n"
          ]
        }
      ]
    },
    {
      "cell_type": "markdown",
      "source": [
        "Exercise 6\n",
        "---\n",
        "For the first print statement, it will print everything with an index of 1-5. Second print statement will get everything up to and including 4. Third will print all elements with indices 4+, and 5 makes me think it'll print everything. \n",
        "\n",
        "Outcome: Everything was *almost* right. for the my_list[1:5] it does not print what is in index 5. "
      ],
      "metadata": {
        "id": "NWxX2x0Rqj7D"
      }
    },
    {
      "cell_type": "code",
      "source": [
        "#List Slices \n",
        "\n",
        "my_list = [33, 55, 'hello','R2D2',7.8,'banana']\n",
        "print( my_list[1:5] )\n",
        "print( my_list[:4])\n",
        "print( my_list[4:])\n",
        "print( my_list[:])"
      ],
      "metadata": {
        "colab": {
          "base_uri": "https://localhost:8080/"
        },
        "id": "YvawS3ATqlkC",
        "outputId": "2ca6eac5-cc1b-474a-90ee-6475fbf6d888"
      },
      "execution_count": 14,
      "outputs": [
        {
          "output_type": "stream",
          "name": "stdout",
          "text": [
            "[55, 'hello', 'R2D2', 7.8]\n",
            "[33, 55, 'hello', 'R2D2']\n",
            "[7.8, 'banana']\n",
            "[33, 55, 'hello', 'R2D2', 7.8, 'banana']\n"
          ]
        }
      ]
    },
    {
      "cell_type": "markdown",
      "source": [
        "Exercise 7\n",
        "---\n",
        "'Drake' and 'University' weren't printed from my_list because the print statement they are in earlier did not truly 'add' them to the list. It simply printed them with the element. "
      ],
      "metadata": {
        "id": "xDeMUgH3r5W_"
      }
    },
    {
      "cell_type": "code",
      "source": [
        "my_slice = my_list[1:5]\n",
        "my_slice[2] = 'what'\n",
        "print(my_slice)\n",
        "print(my_list)\n",
        "print(my_list[1:5] + 2*['Drake','University'])\n",
        "my_list[:0] = ['Bulldogs']\n",
        "print(my_list)\n",
        "# why isn't \"Drake\" or \"University\" printed out in this last line?"
      ],
      "metadata": {
        "colab": {
          "base_uri": "https://localhost:8080/"
        },
        "id": "wdbBs1M_r_Mm",
        "outputId": "e1a50423-d79c-4539-ac55-be7a10e59e91"
      },
      "execution_count": 15,
      "outputs": [
        {
          "output_type": "stream",
          "name": "stdout",
          "text": [
            "[55, 'hello', 'what', 7.8]\n",
            "[33, 55, 'hello', 'R2D2', 7.8, 'banana']\n",
            "[55, 'hello', 'R2D2', 7.8, 'Drake', 'University', 'Drake', 'University']\n",
            "['Bulldogs', 33, 55, 'hello', 'R2D2', 7.8, 'banana']\n"
          ]
        }
      ]
    },
    {
      "cell_type": "markdown",
      "source": [
        "Exercise 8\n",
        "---\n",
        "`print(my_list[2][1])` tries to print out 'hello', but `[1]` specifies that it should only print out 'e'."
      ],
      "metadata": {
        "id": "No-tfukHtwe2"
      }
    },
    {
      "cell_type": "code",
      "source": [
        "my_list = [42, 3.14, 'hello', ['ice', 'ice', 'baby']]\n",
        "print(my_list[3][2])\n",
        "print(my_list[2][1])\n",
        "# wait, what? \n",
        "# explain what is happening here"
      ],
      "metadata": {
        "colab": {
          "base_uri": "https://localhost:8080/"
        },
        "id": "TvMvnk2Otx_O",
        "outputId": "fc4d9b8a-e697-441c-e736-a9adcbb50763"
      },
      "execution_count": 16,
      "outputs": [
        {
          "output_type": "stream",
          "name": "stdout",
          "text": [
            "baby\n",
            "e\n"
          ]
        }
      ]
    }
  ]
}
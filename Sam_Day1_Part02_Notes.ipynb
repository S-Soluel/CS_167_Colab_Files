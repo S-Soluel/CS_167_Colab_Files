{
  "nbformat": 4,
  "nbformat_minor": 0,
  "metadata": {
    "colab": {
      "provenance": [],
      "include_colab_link": true
    },
    "kernelspec": {
      "name": "python3",
      "display_name": "Python 3"
    },
    "language_info": {
      "name": "python"
    }
  },
  "cells": [
    {
      "cell_type": "markdown",
      "metadata": {
        "id": "view-in-github",
        "colab_type": "text"
      },
      "source": [
        "<a href=\"https://colab.research.google.com/github/S-Soluel/CS_167_Colab_Files/blob/Notefiles/Sam_Day1_Part02_Notes.ipynb\" target=\"_parent\"><img src=\"https://colab.research.google.com/assets/colab-badge.svg\" alt=\"Open In Colab\"/></a>"
      ]
    },
    {
      "cell_type": "markdown",
      "source": [
        "# Colab Tutorial\n",
        "Jan 3rd, 2023\n",
        "\n",
        "You can run Python code in Colab. Use the short cut `shift +return`\n",
        "\n",
        "Markdown basics:\n",
        "- **bold text** or __bold text__\n",
        "- *italicized*, _italicized_\n",
        "- `typewriter text`\n",
        "- [link name](insert link url)\n",
        "  - Look a new level of indentation\n",
        "- Can use Markdown Table generator to make tables easily\n",
        "\n",
        "---\n",
        "\n"
      ],
      "metadata": {
        "id": "tZIvVD0ih3PN"
      }
    },
    {
      "cell_type": "code",
      "source": [
        "x = 3 + 2\n",
        "x # don't have to do print(x), it'll automatically return the last line. If you don't want to print the last line, can put a semicolon at the end of code sections.\n"
      ],
      "metadata": {
        "colab": {
          "base_uri": "https://localhost:8080/"
        },
        "id": "ICSawV3Th9Yh",
        "outputId": "2b52eb42-2ae5-46e8-edb8-f67316ce31da"
      },
      "execution_count": null,
      "outputs": [
        {
          "output_type": "execute_result",
          "data": {
            "text/plain": [
              "5"
            ]
          },
          "metadata": {},
          "execution_count": 3
        }
      ]
    },
    {
      "cell_type": "markdown",
      "source": [
        "## Python Lab | Review\n",
        "Note that each exercise in the code should be put in a separate cell. \n"
      ],
      "metadata": {
        "id": "NA1Nxdxvl0i8"
      }
    },
    {
      "cell_type": "markdown",
      "source": [
        "Exercise 1\n",
        "---"
      ],
      "metadata": {
        "id": "Z5QUdU5boPGL"
      }
    },
    {
      "cell_type": "code",
      "source": [
        "a=10\n",
        "b=3.14\n",
        "c = \"machine learning\"\n",
        "d = 'hi'\n",
        "e = 'x'\n",
        "f = [1,2,3]\n",
        "# I feel like this is a trick, but should print all a, b, c, d, e, and f in that order\n",
        "# The trick is that I feel as if f is going to contain a, b, and c. \n",
        "# Let's find out.\n",
        "\n",
        "# Update: it was a trick in a different way than I thought. \n",
        "# Much simpler, just had a list containing 1, 2, and 3. (Or maybe a tuple, might need to refresh on syntax)\n",
        "print(a,b,c,d,e,f)"
      ],
      "metadata": {
        "colab": {
          "base_uri": "https://localhost:8080/"
        },
        "id": "_ucUq3T4l0S-",
        "outputId": "dcfbf864-04aa-4372-cc25-ec124a7928c9"
      },
      "execution_count": null,
      "outputs": [
        {
          "output_type": "stream",
          "name": "stdout",
          "text": [
            "10 3.14 machine learning hi x [1, 2, 3]\n"
          ]
        }
      ]
    },
    {
      "cell_type": "markdown",
      "source": [
        "Exercise 2\n",
        "---\n"
      ],
      "metadata": {
        "id": "ESV2Ixl2oMkq"
      }
    },
    {
      "cell_type": "code",
      "source": [
        "print(\"a's type:\", type(a))\n",
        "a = 'variables can change types'\n",
        "print(\"a's type:\", type(a))\n",
        "print(type(b))\n",
        "print(type(c))\n",
        "print(type(d))\n",
        "print(type(e))\n",
        "print(type(f))"
      ],
      "metadata": {
        "colab": {
          "base_uri": "https://localhost:8080/"
        },
        "id": "ZUuogtMcn2Ab",
        "outputId": "4812c69d-3090-4dc7-866b-72b63d241b58"
      },
      "execution_count": null,
      "outputs": [
        {
          "output_type": "stream",
          "name": "stdout",
          "text": [
            "a's type: <class 'int'>\n",
            "a's type: <class 'str'>\n",
            "<class 'float'>\n",
            "<class 'str'>\n",
            "<class 'str'>\n",
            "<class 'str'>\n",
            "<class 'list'>\n"
          ]
        }
      ]
    },
    {
      "cell_type": "markdown",
      "source": [
        "Exercise 3\n",
        "---\n",
        "\n",
        "Outcome should be 'abc', 2, 3. Aka, y[0] is 'abc'."
      ],
      "metadata": {
        "id": "5_7BvmwAomED"
      }
    },
    {
      "cell_type": "code",
      "source": [
        "x = [1,2,3] \n",
        "y=x\n",
        "x[0] = \"abc\" \n",
        "print(y) \n",
        "#before you run, what will the value of y[0] be?"
      ],
      "metadata": {
        "colab": {
          "base_uri": "https://localhost:8080/"
        },
        "id": "9vOh48wkooFl",
        "outputId": "c914f717-6f44-4138-aa03-09c67677c968"
      },
      "execution_count": null,
      "outputs": [
        {
          "output_type": "stream",
          "name": "stdout",
          "text": [
            "['abc', 2, 3]\n"
          ]
        }
      ]
    },
    {
      "cell_type": "markdown",
      "source": [
        "Exercise 4\n",
        "---\n",
        "Output prediction:\n",
        "z = x[1] should be 2. Print(x) should give us \"what\", and print(z) should give 2. \n",
        "\n",
        "Unsure what x.append does, but feels like it should be similar to 'updating' a value, while x.insert feels as if it should insert a new value into the list.\n",
        "\n",
        "Output info: forgot that x was a list, so it prints something different. \n",
        "x.append adds a value at the end of the list, while x.insert adds a new value at the specified index of the list. "
      ],
      "metadata": {
        "id": "4wArBimko6Wg"
      }
    },
    {
      "cell_type": "code",
      "source": [
        "z = x[1]\n",
        "x[1] = \"what\"\n",
        "print(x)\n",
        "print(z)\n",
        "x.append(70)\n",
        "x.insert(2,90)\n",
        "print(x)\n",
        "#can you predict what will be output?"
      ],
      "metadata": {
        "colab": {
          "base_uri": "https://localhost:8080/"
        },
        "id": "K7RZbd3yo-Xo",
        "outputId": "8b072102-3222-4727-e615-ed592cb556cd"
      },
      "execution_count": null,
      "outputs": [
        {
          "output_type": "stream",
          "name": "stdout",
          "text": [
            "['abc', 'what', 3]\n",
            "2\n",
            "['abc', 'what', 90, 3, 70]\n"
          ]
        }
      ]
    },
    {
      "cell_type": "markdown",
      "source": [
        "Exercise 5\n",
        "---\n",
        "I think this should print 2, then print 5, and finally print a list that includes all the values from x+x. (So basically the values will all occur twice.\n",
        "\n",
        "Answer: Was correct in this case."
      ],
      "metadata": {
        "id": "mF-El3r1qIC_"
      }
    },
    {
      "cell_type": "code",
      "source": [
        "print( x.index(90) )\n",
        "print( len(x) )\n",
        "print( x+x )\n",
        "#can you predict what will be output?"
      ],
      "metadata": {
        "colab": {
          "base_uri": "https://localhost:8080/"
        },
        "id": "zAZGWOC0qKij",
        "outputId": "563cd435-3cd6-473e-ed39-88193b99c6d9"
      },
      "execution_count": null,
      "outputs": [
        {
          "output_type": "stream",
          "name": "stdout",
          "text": [
            "2\n",
            "5\n",
            "['abc', 'what', 90, 3, 70, 'abc', 'what', 90, 3, 70]\n"
          ]
        }
      ]
    },
    {
      "cell_type": "markdown",
      "source": [
        "Exercise 6\n",
        "---\n",
        "For the first print statement, it will print everything with an index of 1-5. Second print statement will get everything up to and including 4. Third will print all elements with indices 4+, and 5 makes me think it'll print everything. \n",
        "\n",
        "Outcome: Everything was *almost* right. for the my_list[1:5] it does not print what is in index 5. "
      ],
      "metadata": {
        "id": "NWxX2x0Rqj7D"
      }
    },
    {
      "cell_type": "code",
      "source": [
        "#List Slices \n",
        "\n",
        "my_list = [33, 55, 'hello','R2D2',7.8,'banana']\n",
        "print( my_list[1:5] )\n",
        "print( my_list[:4])\n",
        "print( my_list[4:])\n",
        "print( my_list[:])"
      ],
      "metadata": {
        "colab": {
          "base_uri": "https://localhost:8080/"
        },
        "id": "YvawS3ATqlkC",
        "outputId": "2ca6eac5-cc1b-474a-90ee-6475fbf6d888"
      },
      "execution_count": null,
      "outputs": [
        {
          "output_type": "stream",
          "name": "stdout",
          "text": [
            "[55, 'hello', 'R2D2', 7.8]\n",
            "[33, 55, 'hello', 'R2D2']\n",
            "[7.8, 'banana']\n",
            "[33, 55, 'hello', 'R2D2', 7.8, 'banana']\n"
          ]
        }
      ]
    },
    {
      "cell_type": "markdown",
      "source": [
        "Exercise 7\n",
        "---\n",
        "'Drake' and 'University' weren't printed from my_list because the print statement they are in earlier did not truly 'add' them to the list. It simply printed them with the element. "
      ],
      "metadata": {
        "id": "xDeMUgH3r5W_"
      }
    },
    {
      "cell_type": "code",
      "source": [
        "my_slice = my_list[1:5]\n",
        "my_slice[2] = 'what'\n",
        "print(my_slice)\n",
        "print(my_list)\n",
        "print(my_list[1:5] + 2*['Drake','University'])\n",
        "my_list[:0] = ['Bulldogs']\n",
        "print(my_list)\n",
        "# why isn't \"Drake\" or \"University\" printed out in this last line?"
      ],
      "metadata": {
        "colab": {
          "base_uri": "https://localhost:8080/"
        },
        "id": "wdbBs1M_r_Mm",
        "outputId": "e1a50423-d79c-4539-ac55-be7a10e59e91"
      },
      "execution_count": null,
      "outputs": [
        {
          "output_type": "stream",
          "name": "stdout",
          "text": [
            "[55, 'hello', 'what', 7.8]\n",
            "[33, 55, 'hello', 'R2D2', 7.8, 'banana']\n",
            "[55, 'hello', 'R2D2', 7.8, 'Drake', 'University', 'Drake', 'University']\n",
            "['Bulldogs', 33, 55, 'hello', 'R2D2', 7.8, 'banana']\n"
          ]
        }
      ]
    },
    {
      "cell_type": "markdown",
      "source": [
        "Exercise 8\n",
        "---\n",
        "`print(my_list[2][1])` tries to print out 'hello', but `[1]` specifies that it should only print out 'e'."
      ],
      "metadata": {
        "id": "No-tfukHtwe2"
      }
    },
    {
      "cell_type": "code",
      "source": [
        "my_list = [42, 3.14, 'hello', ['ice', 'ice', 'baby']]\n",
        "print(my_list[3][2])\n",
        "print(my_list[2][1])\n",
        "# wait, what? \n",
        "# explain what is happening here"
      ],
      "metadata": {
        "colab": {
          "base_uri": "https://localhost:8080/"
        },
        "id": "TvMvnk2Otx_O",
        "outputId": "fc4d9b8a-e697-441c-e736-a9adcbb50763"
      },
      "execution_count": null,
      "outputs": [
        {
          "output_type": "stream",
          "name": "stdout",
          "text": [
            "baby\n",
            "e\n"
          ]
        }
      ]
    },
    {
      "cell_type": "markdown",
      "source": [
        "Exercise 9\n",
        "---\n",
        "\n"
      ],
      "metadata": {
        "id": "LVa5-Uo7oZMi"
      }
    },
    {
      "cell_type": "code",
      "source": [
        "# In Python, a tuple is a collection which is ordered and unchangeable. \n",
        "# In Python tuples are written with round brackets.\n",
        "\n",
        "my_tuple = (100,200,'300')\n",
        "print(my_tuple[1])\n",
        "my_dictionary = {'x':42, 'y':3.14}\n",
        "print(my_dictionary['x'])"
      ],
      "metadata": {
        "colab": {
          "base_uri": "https://localhost:8080/"
        },
        "id": "lhjak5NRoZoC",
        "outputId": "1d7615b9-933b-480f-d6f0-f3eb248190da"
      },
      "execution_count": null,
      "outputs": [
        {
          "output_type": "stream",
          "name": "stdout",
          "text": [
            "200\n",
            "42\n"
          ]
        }
      ]
    },
    {
      "cell_type": "markdown",
      "source": [
        "Exercise 10\n",
        "---\n",
        "1. For the first error, the issue is that we are trying to access an element with index = 2, when there is none for the first element in `my_list`.\n",
        "\n",
        "2. A tuple cannot be changed. \n",
        "\n",
        "3. There is no `my_dictionary[1]` that was mapped to. "
      ],
      "metadata": {
        "id": "WlX_vzGSoaCp"
      }
    },
    {
      "cell_type": "code",
      "source": [
        "# Each of these lines will cause an error. \n",
        "# Can you describe why before running them one at a time?\n",
        "\n",
        "print(my_list[1][2])\n",
        "my_tuple[1] = 0\n",
        "print(my_dictionary[1])"
      ],
      "metadata": {
        "colab": {
          "base_uri": "https://localhost:8080/",
          "height": 240
        },
        "id": "MQfT9tQ5obPx",
        "outputId": "04fe7de3-dc4e-47b2-98ab-f678492f1387"
      },
      "execution_count": null,
      "outputs": [
        {
          "output_type": "error",
          "ename": "NameError",
          "evalue": "ignored",
          "traceback": [
            "\u001b[0;31m---------------------------------------------------------------------------\u001b[0m",
            "\u001b[0;31mNameError\u001b[0m                                 Traceback (most recent call last)",
            "\u001b[0;32m<ipython-input-5-8b3ec5ef5787>\u001b[0m in \u001b[0;36m<module>\u001b[0;34m\u001b[0m\n\u001b[1;32m      2\u001b[0m \u001b[0;31m# Can you describe why before running them one at a time?\u001b[0m\u001b[0;34m\u001b[0m\u001b[0;34m\u001b[0m\u001b[0;34m\u001b[0m\u001b[0m\n\u001b[1;32m      3\u001b[0m \u001b[0;34m\u001b[0m\u001b[0m\n\u001b[0;32m----> 4\u001b[0;31m \u001b[0mprint\u001b[0m\u001b[0;34m(\u001b[0m\u001b[0mmy_list\u001b[0m\u001b[0;34m[\u001b[0m\u001b[0;36m1\u001b[0m\u001b[0;34m]\u001b[0m\u001b[0;34m[\u001b[0m\u001b[0;36m2\u001b[0m\u001b[0;34m]\u001b[0m\u001b[0;34m)\u001b[0m\u001b[0;34m\u001b[0m\u001b[0;34m\u001b[0m\u001b[0m\n\u001b[0m\u001b[1;32m      5\u001b[0m \u001b[0mmy_tuple\u001b[0m\u001b[0;34m[\u001b[0m\u001b[0;36m1\u001b[0m\u001b[0;34m]\u001b[0m \u001b[0;34m=\u001b[0m \u001b[0;36m0\u001b[0m\u001b[0;34m\u001b[0m\u001b[0;34m\u001b[0m\u001b[0m\n\u001b[1;32m      6\u001b[0m \u001b[0mprint\u001b[0m\u001b[0;34m(\u001b[0m\u001b[0mmy_dictionary\u001b[0m\u001b[0;34m[\u001b[0m\u001b[0;36m1\u001b[0m\u001b[0;34m]\u001b[0m\u001b[0;34m)\u001b[0m\u001b[0;34m\u001b[0m\u001b[0;34m\u001b[0m\u001b[0m\n",
            "\u001b[0;31mNameError\u001b[0m: name 'my_list' is not defined"
          ]
        }
      ]
    },
    {
      "cell_type": "markdown",
      "source": [
        "Exercise 11\n",
        "---\n",
        "This cell utilizes if and for loops in order to eventually print out whether a number given is negative, positive and odd, or even and nonnegative. "
      ],
      "metadata": {
        "id": "iZxNMP8VqBBd"
      }
    },
    {
      "cell_type": "code",
      "source": [
        "# If statements and for loops\n",
        "x = int(input())\n",
        "if x < 0:\n",
        "    print(\"x is negative\")\n",
        "elif x % 2:\n",
        "    print(\"x is positive and odd\")\n",
        "else:\n",
        "    print(\"x is even and nonnegative\")\n",
        "\n",
        "num_list = [3, 7, 9,17, 2]\n",
        "for num in num_list:\n",
        "    print(num)\n",
        "\n",
        "print(range(10,20))\n",
        "for n in range(10,20):\n",
        "    print(n)"
      ],
      "metadata": {
        "id": "NAR-4upZqAxA",
        "colab": {
          "base_uri": "https://localhost:8080/",
          "height": 389
        },
        "outputId": "9e7cd86c-03f8-42ec-f64c-f48686859833"
      },
      "execution_count": null,
      "outputs": [
        {
          "output_type": "error",
          "ename": "KeyboardInterrupt",
          "evalue": "ignored",
          "traceback": [
            "\u001b[0;31m---------------------------------------------------------------------------\u001b[0m",
            "\u001b[0;31mKeyboardInterrupt\u001b[0m                         Traceback (most recent call last)",
            "\u001b[0;32m<ipython-input-7-c6cf6a1559e2>\u001b[0m in \u001b[0;36m<module>\u001b[0;34m\u001b[0m\n\u001b[1;32m      1\u001b[0m \u001b[0;31m# If statements and for loops\u001b[0m\u001b[0;34m\u001b[0m\u001b[0;34m\u001b[0m\u001b[0;34m\u001b[0m\u001b[0m\n\u001b[0;32m----> 2\u001b[0;31m \u001b[0mx\u001b[0m \u001b[0;34m=\u001b[0m \u001b[0mint\u001b[0m\u001b[0;34m(\u001b[0m\u001b[0minput\u001b[0m\u001b[0;34m(\u001b[0m\u001b[0;34m)\u001b[0m\u001b[0;34m)\u001b[0m\u001b[0;34m\u001b[0m\u001b[0;34m\u001b[0m\u001b[0m\n\u001b[0m\u001b[1;32m      3\u001b[0m \u001b[0;32mif\u001b[0m \u001b[0mx\u001b[0m \u001b[0;34m<\u001b[0m \u001b[0;36m0\u001b[0m\u001b[0;34m:\u001b[0m\u001b[0;34m\u001b[0m\u001b[0;34m\u001b[0m\u001b[0m\n\u001b[1;32m      4\u001b[0m     \u001b[0mprint\u001b[0m\u001b[0;34m(\u001b[0m\u001b[0;34m\"x is negative\"\u001b[0m\u001b[0;34m)\u001b[0m\u001b[0;34m\u001b[0m\u001b[0;34m\u001b[0m\u001b[0m\n\u001b[1;32m      5\u001b[0m \u001b[0;32melif\u001b[0m \u001b[0mx\u001b[0m \u001b[0;34m%\u001b[0m \u001b[0;36m2\u001b[0m\u001b[0;34m:\u001b[0m\u001b[0;34m\u001b[0m\u001b[0;34m\u001b[0m\u001b[0m\n",
            "\u001b[0;32m/usr/local/lib/python3.8/dist-packages/ipykernel/kernelbase.py\u001b[0m in \u001b[0;36mraw_input\u001b[0;34m(self, prompt)\u001b[0m\n\u001b[1;32m    858\u001b[0m                 \u001b[0;34m\"raw_input was called, but this frontend does not support input requests.\"\u001b[0m\u001b[0;34m\u001b[0m\u001b[0;34m\u001b[0m\u001b[0m\n\u001b[1;32m    859\u001b[0m             )\n\u001b[0;32m--> 860\u001b[0;31m         return self._input_request(str(prompt),\n\u001b[0m\u001b[1;32m    861\u001b[0m             \u001b[0mself\u001b[0m\u001b[0;34m.\u001b[0m\u001b[0m_parent_ident\u001b[0m\u001b[0;34m,\u001b[0m\u001b[0;34m\u001b[0m\u001b[0;34m\u001b[0m\u001b[0m\n\u001b[1;32m    862\u001b[0m             \u001b[0mself\u001b[0m\u001b[0;34m.\u001b[0m\u001b[0m_parent_header\u001b[0m\u001b[0;34m,\u001b[0m\u001b[0;34m\u001b[0m\u001b[0;34m\u001b[0m\u001b[0m\n",
            "\u001b[0;32m/usr/local/lib/python3.8/dist-packages/ipykernel/kernelbase.py\u001b[0m in \u001b[0;36m_input_request\u001b[0;34m(self, prompt, ident, parent, password)\u001b[0m\n\u001b[1;32m    902\u001b[0m             \u001b[0;32mexcept\u001b[0m \u001b[0mKeyboardInterrupt\u001b[0m\u001b[0;34m:\u001b[0m\u001b[0;34m\u001b[0m\u001b[0;34m\u001b[0m\u001b[0m\n\u001b[1;32m    903\u001b[0m                 \u001b[0;31m# re-raise KeyboardInterrupt, to truncate traceback\u001b[0m\u001b[0;34m\u001b[0m\u001b[0;34m\u001b[0m\u001b[0;34m\u001b[0m\u001b[0m\n\u001b[0;32m--> 904\u001b[0;31m                 \u001b[0;32mraise\u001b[0m \u001b[0mKeyboardInterrupt\u001b[0m\u001b[0;34m(\u001b[0m\u001b[0;34m\"Interrupted by user\"\u001b[0m\u001b[0;34m)\u001b[0m \u001b[0;32mfrom\u001b[0m \u001b[0;32mNone\u001b[0m\u001b[0;34m\u001b[0m\u001b[0;34m\u001b[0m\u001b[0m\n\u001b[0m\u001b[1;32m    905\u001b[0m             \u001b[0;32mexcept\u001b[0m \u001b[0mException\u001b[0m \u001b[0;32mas\u001b[0m \u001b[0me\u001b[0m\u001b[0;34m:\u001b[0m\u001b[0;34m\u001b[0m\u001b[0;34m\u001b[0m\u001b[0m\n\u001b[1;32m    906\u001b[0m                 \u001b[0mself\u001b[0m\u001b[0;34m.\u001b[0m\u001b[0mlog\u001b[0m\u001b[0;34m.\u001b[0m\u001b[0mwarning\u001b[0m\u001b[0;34m(\u001b[0m\u001b[0;34m\"Invalid Message:\"\u001b[0m\u001b[0;34m,\u001b[0m \u001b[0mexc_info\u001b[0m\u001b[0;34m=\u001b[0m\u001b[0;32mTrue\u001b[0m\u001b[0;34m)\u001b[0m\u001b[0;34m\u001b[0m\u001b[0;34m\u001b[0m\u001b[0m\n",
            "\u001b[0;31mKeyboardInterrupt\u001b[0m: Interrupted by user"
          ]
        }
      ]
    },
    {
      "cell_type": "markdown",
      "source": [
        "Exercise 12\n",
        "---\n"
      ],
      "metadata": {
        "id": "PrdJ8s0KqoKh"
      }
    },
    {
      "cell_type": "code",
      "source": [
        "# iterating Through Data\n",
        "my_data = [5.3, 3.2, 4.1, 5.9, 6.7, 3.5]\n",
        "# method 1\n",
        "for element in my_data:\n",
        "    print(element)\n",
        "\n",
        "# method 2\n",
        "for idx in range(len(my_data)):\n",
        "    print(my_data[idx])\n"
      ],
      "metadata": {
        "colab": {
          "base_uri": "https://localhost:8080/"
        },
        "id": "t-FbLDNbqokp",
        "outputId": "cf7637fb-11ac-4c37-9790-8eeb2e9c9f3c"
      },
      "execution_count": null,
      "outputs": [
        {
          "output_type": "stream",
          "name": "stdout",
          "text": [
            "5.3\n",
            "3.2\n",
            "4.1\n",
            "5.9\n",
            "6.7\n",
            "3.5\n",
            "5.3\n",
            "3.2\n",
            "4.1\n",
            "5.9\n",
            "6.7\n",
            "3.5\n"
          ]
        }
      ]
    },
    {
      "cell_type": "markdown",
      "source": [
        "Exercise 13\n",
        "---\n",
        "Lots of issues in how we try finding the length of the list, and there are also some issues with specifying the range in general."
      ],
      "metadata": {
        "id": "rQhzAUHmqz-Q"
      }
    },
    {
      "cell_type": "code",
      "source": [
        "# Explain why these won't work:\n",
        "my_data = [5.3, 3.2, 4.1, 5.9, 6.7, 3.5]\n",
        "for i in my_data:\n",
        "    print( my_data[i] )\n",
        "\n",
        "for i in range(len(my_data)):\n",
        "    print( i )\n",
        "\n",
        "for i in range(my_data):\n",
        "    print( my_data[i] )"
      ],
      "metadata": {
        "colab": {
          "base_uri": "https://localhost:8080/",
          "height": 240
        },
        "id": "H1Ihkmzkq1VV",
        "outputId": "5249104c-d6be-4289-cbe3-c96a10b88685"
      },
      "execution_count": null,
      "outputs": [
        {
          "output_type": "error",
          "ename": "TypeError",
          "evalue": "ignored",
          "traceback": [
            "\u001b[0;31m---------------------------------------------------------------------------\u001b[0m",
            "\u001b[0;31mTypeError\u001b[0m                                 Traceback (most recent call last)",
            "\u001b[0;32m<ipython-input-12-dabf2aa9a169>\u001b[0m in \u001b[0;36m<module>\u001b[0;34m\u001b[0m\n\u001b[1;32m      2\u001b[0m \u001b[0mmy_data\u001b[0m \u001b[0;34m=\u001b[0m \u001b[0;34m[\u001b[0m\u001b[0;36m5.3\u001b[0m\u001b[0;34m,\u001b[0m \u001b[0;36m3.2\u001b[0m\u001b[0;34m,\u001b[0m \u001b[0;36m4.1\u001b[0m\u001b[0;34m,\u001b[0m \u001b[0;36m5.9\u001b[0m\u001b[0;34m,\u001b[0m \u001b[0;36m6.7\u001b[0m\u001b[0;34m,\u001b[0m \u001b[0;36m3.5\u001b[0m\u001b[0;34m]\u001b[0m\u001b[0;34m\u001b[0m\u001b[0;34m\u001b[0m\u001b[0m\n\u001b[1;32m      3\u001b[0m \u001b[0;32mfor\u001b[0m \u001b[0mi\u001b[0m \u001b[0;32min\u001b[0m \u001b[0mmy_data\u001b[0m\u001b[0;34m:\u001b[0m\u001b[0;34m\u001b[0m\u001b[0;34m\u001b[0m\u001b[0m\n\u001b[0;32m----> 4\u001b[0;31m     \u001b[0mprint\u001b[0m\u001b[0;34m(\u001b[0m \u001b[0mmy_data\u001b[0m\u001b[0;34m[\u001b[0m\u001b[0mi\u001b[0m\u001b[0;34m]\u001b[0m \u001b[0;34m)\u001b[0m\u001b[0;34m\u001b[0m\u001b[0;34m\u001b[0m\u001b[0m\n\u001b[0m\u001b[1;32m      5\u001b[0m \u001b[0;34m\u001b[0m\u001b[0m\n\u001b[1;32m      6\u001b[0m \u001b[0;32mfor\u001b[0m \u001b[0mi\u001b[0m \u001b[0;32min\u001b[0m \u001b[0mrange\u001b[0m\u001b[0;34m(\u001b[0m\u001b[0mlen\u001b[0m\u001b[0;34m(\u001b[0m\u001b[0mmy_data\u001b[0m\u001b[0;34m)\u001b[0m\u001b[0;34m)\u001b[0m\u001b[0;34m:\u001b[0m\u001b[0;34m\u001b[0m\u001b[0;34m\u001b[0m\u001b[0m\n",
            "\u001b[0;31mTypeError\u001b[0m: list indices must be integers or slices, not float"
          ]
        }
      ]
    },
    {
      "cell_type": "markdown",
      "source": [
        "# Panda Exploration\n",
        "---\n",
        "\n",
        "Import pandas to Jupyter Notebook\n",
        "---\n"
      ],
      "metadata": {
        "id": "hc--F5Tnrd-_"
      }
    },
    {
      "cell_type": "code",
      "source": [
        "import pandas\n",
        "\n",
        "import pandas as pd\n",
        "# The first step is to mount your Google Drive to your Colab account. \n",
        "#You will be asked to authorize Colab to access your Google Drive. Follow the steps they lead you throuh.\n",
        "\n",
        "from google.colab import drive\n",
        "drive.mount('/content/drive')"
      ],
      "metadata": {
        "colab": {
          "base_uri": "https://localhost:8080/"
        },
        "id": "wpzf-5jvrdL6",
        "outputId": "bb1e7916-bbce-4f67-c1cf-c2236e65dd1d"
      },
      "execution_count": null,
      "outputs": [
        {
          "output_type": "stream",
          "name": "stdout",
          "text": [
            "Drive already mounted at /content/drive; to attempt to forcibly remount, call drive.mount(\"/content/drive\", force_remount=True).\n"
          ]
        }
      ]
    },
    {
      "cell_type": "markdown",
      "source": [
        "Exercise 14\n",
        "---\n",
        "Load in data from Google Drive"
      ],
      "metadata": {
        "id": "txIx2CZaIJSO"
      }
    },
    {
      "cell_type": "code",
      "source": [
        "#Download the restaurant data (it's in Blackboard under 'datasets'), and put it in your Google Drive. Make a note of the path\n",
        "#I would suggest creating a datasets folder somewhere easy to get to, we'll be using this a lot.\n",
        "# your path will look like '/content/drive/MyDrive/....wherever you put the data'\n",
        "\n",
        "#change the following line so that it points to where you put restaurant.csv.\n",
        "data = pd.read_csv('/content/drive/MyDrive/JTerm2023/datasets/restaurant.csv')\n",
        "data.head()"
      ],
      "metadata": {
        "colab": {
          "base_uri": "https://localhost:8080/",
          "height": 206
        },
        "id": "DUgIZwpAIMEu",
        "outputId": "10b79087-bbe5-4060-975a-a8f41ebb27fb"
      },
      "execution_count": null,
      "outputs": [
        {
          "output_type": "execute_result",
          "data": {
            "text/plain": [
              "   alt  bar  fri  hun   pat price rain  res    type    est target\n",
              "0  Yes   No   No  Yes  Some   $$$   No  Yes  French   0-10    Yes\n",
              "1  Yes   No   No  Yes  Full     $   No   No    Thai  30-60     No\n",
              "2   No  Yes   No   No  Some     $   No   No  Burger   0-10    Yes\n",
              "3  Yes   No  Yes  Yes  Full     $   No   No    Thai  10-30    Yes\n",
              "4  Yes   No  Yes   No  Full   $$$   No  Yes  French    >60     No"
            ],
            "text/html": [
              "\n",
              "  <div id=\"df-6e18abf3-9236-44fe-b81f-15294a3f7163\">\n",
              "    <div class=\"colab-df-container\">\n",
              "      <div>\n",
              "<style scoped>\n",
              "    .dataframe tbody tr th:only-of-type {\n",
              "        vertical-align: middle;\n",
              "    }\n",
              "\n",
              "    .dataframe tbody tr th {\n",
              "        vertical-align: top;\n",
              "    }\n",
              "\n",
              "    .dataframe thead th {\n",
              "        text-align: right;\n",
              "    }\n",
              "</style>\n",
              "<table border=\"1\" class=\"dataframe\">\n",
              "  <thead>\n",
              "    <tr style=\"text-align: right;\">\n",
              "      <th></th>\n",
              "      <th>alt</th>\n",
              "      <th>bar</th>\n",
              "      <th>fri</th>\n",
              "      <th>hun</th>\n",
              "      <th>pat</th>\n",
              "      <th>price</th>\n",
              "      <th>rain</th>\n",
              "      <th>res</th>\n",
              "      <th>type</th>\n",
              "      <th>est</th>\n",
              "      <th>target</th>\n",
              "    </tr>\n",
              "  </thead>\n",
              "  <tbody>\n",
              "    <tr>\n",
              "      <th>0</th>\n",
              "      <td>Yes</td>\n",
              "      <td>No</td>\n",
              "      <td>No</td>\n",
              "      <td>Yes</td>\n",
              "      <td>Some</td>\n",
              "      <td>$$$</td>\n",
              "      <td>No</td>\n",
              "      <td>Yes</td>\n",
              "      <td>French</td>\n",
              "      <td>0-10</td>\n",
              "      <td>Yes</td>\n",
              "    </tr>\n",
              "    <tr>\n",
              "      <th>1</th>\n",
              "      <td>Yes</td>\n",
              "      <td>No</td>\n",
              "      <td>No</td>\n",
              "      <td>Yes</td>\n",
              "      <td>Full</td>\n",
              "      <td>$</td>\n",
              "      <td>No</td>\n",
              "      <td>No</td>\n",
              "      <td>Thai</td>\n",
              "      <td>30-60</td>\n",
              "      <td>No</td>\n",
              "    </tr>\n",
              "    <tr>\n",
              "      <th>2</th>\n",
              "      <td>No</td>\n",
              "      <td>Yes</td>\n",
              "      <td>No</td>\n",
              "      <td>No</td>\n",
              "      <td>Some</td>\n",
              "      <td>$</td>\n",
              "      <td>No</td>\n",
              "      <td>No</td>\n",
              "      <td>Burger</td>\n",
              "      <td>0-10</td>\n",
              "      <td>Yes</td>\n",
              "    </tr>\n",
              "    <tr>\n",
              "      <th>3</th>\n",
              "      <td>Yes</td>\n",
              "      <td>No</td>\n",
              "      <td>Yes</td>\n",
              "      <td>Yes</td>\n",
              "      <td>Full</td>\n",
              "      <td>$</td>\n",
              "      <td>No</td>\n",
              "      <td>No</td>\n",
              "      <td>Thai</td>\n",
              "      <td>10-30</td>\n",
              "      <td>Yes</td>\n",
              "    </tr>\n",
              "    <tr>\n",
              "      <th>4</th>\n",
              "      <td>Yes</td>\n",
              "      <td>No</td>\n",
              "      <td>Yes</td>\n",
              "      <td>No</td>\n",
              "      <td>Full</td>\n",
              "      <td>$$$</td>\n",
              "      <td>No</td>\n",
              "      <td>Yes</td>\n",
              "      <td>French</td>\n",
              "      <td>&gt;60</td>\n",
              "      <td>No</td>\n",
              "    </tr>\n",
              "  </tbody>\n",
              "</table>\n",
              "</div>\n",
              "      <button class=\"colab-df-convert\" onclick=\"convertToInteractive('df-6e18abf3-9236-44fe-b81f-15294a3f7163')\"\n",
              "              title=\"Convert this dataframe to an interactive table.\"\n",
              "              style=\"display:none;\">\n",
              "        \n",
              "  <svg xmlns=\"http://www.w3.org/2000/svg\" height=\"24px\"viewBox=\"0 0 24 24\"\n",
              "       width=\"24px\">\n",
              "    <path d=\"M0 0h24v24H0V0z\" fill=\"none\"/>\n",
              "    <path d=\"M18.56 5.44l.94 2.06.94-2.06 2.06-.94-2.06-.94-.94-2.06-.94 2.06-2.06.94zm-11 1L8.5 8.5l.94-2.06 2.06-.94-2.06-.94L8.5 2.5l-.94 2.06-2.06.94zm10 10l.94 2.06.94-2.06 2.06-.94-2.06-.94-.94-2.06-.94 2.06-2.06.94z\"/><path d=\"M17.41 7.96l-1.37-1.37c-.4-.4-.92-.59-1.43-.59-.52 0-1.04.2-1.43.59L10.3 9.45l-7.72 7.72c-.78.78-.78 2.05 0 2.83L4 21.41c.39.39.9.59 1.41.59.51 0 1.02-.2 1.41-.59l7.78-7.78 2.81-2.81c.8-.78.8-2.07 0-2.86zM5.41 20L4 18.59l7.72-7.72 1.47 1.35L5.41 20z\"/>\n",
              "  </svg>\n",
              "      </button>\n",
              "      \n",
              "  <style>\n",
              "    .colab-df-container {\n",
              "      display:flex;\n",
              "      flex-wrap:wrap;\n",
              "      gap: 12px;\n",
              "    }\n",
              "\n",
              "    .colab-df-convert {\n",
              "      background-color: #E8F0FE;\n",
              "      border: none;\n",
              "      border-radius: 50%;\n",
              "      cursor: pointer;\n",
              "      display: none;\n",
              "      fill: #1967D2;\n",
              "      height: 32px;\n",
              "      padding: 0 0 0 0;\n",
              "      width: 32px;\n",
              "    }\n",
              "\n",
              "    .colab-df-convert:hover {\n",
              "      background-color: #E2EBFA;\n",
              "      box-shadow: 0px 1px 2px rgba(60, 64, 67, 0.3), 0px 1px 3px 1px rgba(60, 64, 67, 0.15);\n",
              "      fill: #174EA6;\n",
              "    }\n",
              "\n",
              "    [theme=dark] .colab-df-convert {\n",
              "      background-color: #3B4455;\n",
              "      fill: #D2E3FC;\n",
              "    }\n",
              "\n",
              "    [theme=dark] .colab-df-convert:hover {\n",
              "      background-color: #434B5C;\n",
              "      box-shadow: 0px 1px 3px 1px rgba(0, 0, 0, 0.15);\n",
              "      filter: drop-shadow(0px 1px 2px rgba(0, 0, 0, 0.3));\n",
              "      fill: #FFFFFF;\n",
              "    }\n",
              "  </style>\n",
              "\n",
              "      <script>\n",
              "        const buttonEl =\n",
              "          document.querySelector('#df-6e18abf3-9236-44fe-b81f-15294a3f7163 button.colab-df-convert');\n",
              "        buttonEl.style.display =\n",
              "          google.colab.kernel.accessAllowed ? 'block' : 'none';\n",
              "\n",
              "        async function convertToInteractive(key) {\n",
              "          const element = document.querySelector('#df-6e18abf3-9236-44fe-b81f-15294a3f7163');\n",
              "          const dataTable =\n",
              "            await google.colab.kernel.invokeFunction('convertToInteractive',\n",
              "                                                     [key], {});\n",
              "          if (!dataTable) return;\n",
              "\n",
              "          const docLinkHtml = 'Like what you see? Visit the ' +\n",
              "            '<a target=\"_blank\" href=https://colab.research.google.com/notebooks/data_table.ipynb>data table notebook</a>'\n",
              "            + ' to learn more about interactive tables.';\n",
              "          element.innerHTML = '';\n",
              "          dataTable['output_type'] = 'display_data';\n",
              "          await google.colab.output.renderOutput(dataTable, element);\n",
              "          const docLink = document.createElement('div');\n",
              "          docLink.innerHTML = docLinkHtml;\n",
              "          element.appendChild(docLink);\n",
              "        }\n",
              "      </script>\n",
              "    </div>\n",
              "  </div>\n",
              "  "
            ]
          },
          "metadata": {},
          "execution_count": 8
        }
      ]
    },
    {
      "cell_type": "markdown",
      "source": [
        "Exercise 15\n",
        "---"
      ],
      "metadata": {
        "id": "FE5_RDq_rc7s"
      }
    },
    {
      "cell_type": "code",
      "source": [
        "print(data['price'])"
      ],
      "metadata": {
        "colab": {
          "base_uri": "https://localhost:8080/"
        },
        "id": "Iuz0pblkPGQ7",
        "outputId": "3e2426fb-28ca-4c65-b180-29b6917aa1d0"
      },
      "execution_count": null,
      "outputs": [
        {
          "output_type": "stream",
          "name": "stdout",
          "text": [
            "0     $$$\n",
            "1       $\n",
            "2       $\n",
            "3       $\n",
            "4     $$$\n",
            "5      $$\n",
            "6       $\n",
            "7      $$\n",
            "8       $\n",
            "9     $$$\n",
            "10      $\n",
            "11      $\n",
            "Name: price, dtype: object\n"
          ]
        }
      ]
    },
    {
      "cell_type": "code",
      "source": [
        "print(data.loc[3])"
      ],
      "metadata": {
        "colab": {
          "base_uri": "https://localhost:8080/"
        },
        "id": "vvC-UulTPS_p",
        "outputId": "98b0e8e9-a57a-4790-8042-8a4bb253322c"
      },
      "execution_count": null,
      "outputs": [
        {
          "output_type": "stream",
          "name": "stdout",
          "text": [
            "alt         Yes\n",
            "bar          No\n",
            "fri         Yes\n",
            "hun         Yes\n",
            "pat        Full\n",
            "price         $\n",
            "rain         No\n",
            "res          No\n",
            "type       Thai\n",
            "est       10-30\n",
            "target      Yes\n",
            "Name: 3, dtype: object\n"
          ]
        }
      ]
    },
    {
      "cell_type": "code",
      "source": [
        "print(data.loc[3, 'type'])"
      ],
      "metadata": {
        "colab": {
          "base_uri": "https://localhost:8080/"
        },
        "id": "EqHaihLwPo3x",
        "outputId": "a2fd1f74-1f52-45dd-d7bf-4af279aaf159"
      },
      "execution_count": null,
      "outputs": [
        {
          "output_type": "stream",
          "name": "stdout",
          "text": [
            "Thai\n"
          ]
        }
      ]
    },
    {
      "cell_type": "code",
      "source": [
        "\n",
        "print(data.loc[3, 'rain'])\n",
        "\n",
        "#####\n",
        "\n",
        "print(data.iloc[3,8])\n",
        "\n",
        "#####\n",
        "\n",
        "print(data.iloc[3][8])\n",
        "\n",
        "#####\n",
        "\n",
        "print(data.iloc[3])\n",
        "\n",
        "#####\n",
        "\n",
        "print(data['est'])\n",
        "\n",
        "#####\n",
        "\n",
        "data.loc[5]\n",
        "\n",
        "#####\n",
        "\n",
        "print(type(data))\n",
        "print(type(data['est']))\n",
        "print(type(data.loc[0]))\n",
        "print(type(data.iloc[3,8]))\n"
      ],
      "metadata": {
        "colab": {
          "base_uri": "https://localhost:8080/"
        },
        "id": "Qtw3_0ewP5HV",
        "outputId": "6f635098-d249-4a7a-e9a5-870cf8c474eb"
      },
      "execution_count": null,
      "outputs": [
        {
          "output_type": "stream",
          "name": "stdout",
          "text": [
            "No\n",
            "Thai\n",
            "Thai\n",
            "alt         Yes\n",
            "bar          No\n",
            "fri         Yes\n",
            "hun         Yes\n",
            "pat        Full\n",
            "price         $\n",
            "rain         No\n",
            "res          No\n",
            "type       Thai\n",
            "est       10-30\n",
            "target      Yes\n",
            "Name: 3, dtype: object\n",
            "0      0-10\n",
            "1     30-60\n",
            "2      0-10\n",
            "3     10-30\n",
            "4       >60\n",
            "5      0-10\n",
            "6      0-10\n",
            "7      0-10\n",
            "8       >60\n",
            "9     10-30\n",
            "10     0-10\n",
            "11    30-60\n",
            "Name: est, dtype: object\n",
            "<class 'pandas.core.frame.DataFrame'>\n",
            "<class 'pandas.core.series.Series'>\n",
            "<class 'pandas.core.series.Series'>\n",
            "<class 'str'>\n"
          ]
        }
      ]
    },
    {
      "cell_type": "markdown",
      "source": [
        "Exercise 16: Load in 2nd Dataset\n",
        "---"
      ],
      "metadata": {
        "id": "tr-Dtz7lP-c_"
      }
    },
    {
      "cell_type": "code",
      "source": [
        "data1 = pd.read_csv('/content/drive/MyDrive/JTerm2023/datasets/irisData.csv')\n",
        "data1.head()\n",
        "\n",
        "#####\n",
        "\n",
        "type(data1['sepal length'].loc[0])\n",
        "\n",
        "#####\n",
        "\n",
        "data.iloc[3:6, 4:8]\n",
        "\n",
        "#####\n",
        "\n",
        "print(data['rain'].iloc[4])\n",
        "\n",
        "#####\n",
        "\n",
        "print(data['type']=='Thai')\n",
        "\n",
        "#####\n",
        "\n",
        "print(data[ data['type'] == 'Thai'])"
      ],
      "metadata": {
        "colab": {
          "base_uri": "https://localhost:8080/"
        },
        "id": "tq7vyGFKPpej",
        "outputId": "bcbe1edf-8bc3-4813-918c-2f7a19840424"
      },
      "execution_count": null,
      "outputs": [
        {
          "output_type": "stream",
          "name": "stdout",
          "text": [
            "No\n",
            "0     False\n",
            "1      True\n",
            "2     False\n",
            "3      True\n",
            "4     False\n",
            "5     False\n",
            "6     False\n",
            "7      True\n",
            "8     False\n",
            "9     False\n",
            "10     True\n",
            "11    False\n",
            "Name: type, dtype: bool\n",
            "    alt bar  fri  hun   pat price rain  res  type    est target\n",
            "1   Yes  No   No  Yes  Full     $   No   No  Thai  30-60     No\n",
            "3   Yes  No  Yes  Yes  Full     $   No   No  Thai  10-30    Yes\n",
            "7    No  No   No  Yes  Some    $$  Yes  Yes  Thai   0-10    Yes\n",
            "10   No  No   No   No  None     $   No   No  Thai   0-10     No\n"
          ]
        }
      ]
    },
    {
      "cell_type": "markdown",
      "source": [
        "Lastly...\n",
        "---\n",
        "#### All done? Here are some Exercises you can work on:\n",
        "\n",
        "Using the restaurant data:\n",
        "- print out all examples of Italian restaurants\n",
        "- print out all examples where the estimated wait time is 0-10 minutes\n",
        "- print out all examples at Thai restaurants where there is no alternative available. \n",
        "\t- Hint, see if you can Google how to do selection in a Pandas dataframe using and/or (we'll cover this tomorrow)\n",
        "\n",
        "Using the Iris Data:\n",
        "- Print the Sets examples\n",
        "- Print examples with petal length greater than 6. "
      ],
      "metadata": {
        "id": "Z4sP4NztPFDs"
      }
    }
  ]
}
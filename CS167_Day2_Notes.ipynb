{
  "nbformat": 4,
  "nbformat_minor": 0,
  "metadata": {
    "colab": {
      "provenance": [],
      "authorship_tag": "ABX9TyOHHmxiFilSvzhZ69txglaZ",
      "include_colab_link": true
    },
    "kernelspec": {
      "name": "python3",
      "display_name": "Python 3"
    },
    "language_info": {
      "name": "python"
    }
  },
  "cells": [
    {
      "cell_type": "markdown",
      "metadata": {
        "id": "view-in-github",
        "colab_type": "text"
      },
      "source": [
        "<a href=\"https://colab.research.google.com/github/S-Soluel/CS_167_Colab_Files/blob/main/CS167_Day2_Notes.ipynb\" target=\"_parent\"><img src=\"https://colab.research.google.com/assets/colab-badge.svg\" alt=\"Open In Colab\"/></a>"
      ]
    },
    {
      "cell_type": "markdown",
      "source": [
        "#CS 167: Day 2 Notes\n",
        "\n",
        "###Overview of Pandas\n"
      ],
      "metadata": {
        "id": "ZnR90kkmVuxm"
      }
    },
    {
      "cell_type": "code",
      "source": [
        "#you should be able to run this without any issue.\n",
        "import pandas as pd\n",
        "\n",
        "from google.colab import drive\n",
        "drive.mount('/content/drive')\n",
        "\n",
        "#change this path to point to where your data is:\n",
        "# if you're using colab it should be something like: '/content/drive/MyDrive/CS167/datasets/restaurant.csv'\n",
        "path = '/content/drive/MyDrive/JTerm2023/datasets/restaurant.csv'\n",
        "\n",
        "restaurant_data = pd.read_csv(path)\n",
        "print(\"data is a \", type(restaurant_data))"
      ],
      "metadata": {
        "colab": {
          "base_uri": "https://localhost:8080/"
        },
        "id": "uA3_VkYgXtE4",
        "outputId": "7aaf2eef-a8b2-4a48-bf88-f2100c42e15f"
      },
      "execution_count": 1,
      "outputs": [
        {
          "output_type": "stream",
          "name": "stdout",
          "text": [
            "Mounted at /content/drive\n",
            "data is a  <class 'pandas.core.frame.DataFrame'>\n"
          ]
        }
      ]
    },
    {
      "cell_type": "markdown",
      "source": [
        "Group Exercise: On Columns\n",
        "---\n",
        "subset - ages = holds all ages of the passengers on the titanic\n",
        "\n",
        "---\n",
        "subset 2 - titanic_subset - survived, deck, sex, age"
      ],
      "metadata": {
        "id": "yR3h62t5Yi9z"
      }
    },
    {
      "cell_type": "code",
      "source": [
        "path1 = '/content/drive/MyDrive/JTerm2023/datasets/titanic.csv'\n",
        "\n",
        "titanic = pd.read_csv(path1)\n",
        "# look and make sure titanic was read in right\n",
        "\n",
        "# First subset: getting the ages given\n",
        "ages = titanic['age']\n",
        "ages.head()\n",
        "\n",
        "# Getting second subset: whether someone survived, their deck, sex, and age in that order\n",
        "titanic_subset = titanic[['survived', 'deck', 'sex', 'age']]\n",
        "titanic_subset"
      ],
      "metadata": {
        "colab": {
          "base_uri": "https://localhost:8080/",
          "height": 424
        },
        "id": "x6e7m6vSYinR",
        "outputId": "31405977-5cd7-490f-db7c-1612b964d9db"
      },
      "execution_count": 2,
      "outputs": [
        {
          "output_type": "execute_result",
          "data": {
            "text/plain": [
              "     survived deck     sex   age\n",
              "0           0  NaN    male  22.0\n",
              "1           1    C  female  38.0\n",
              "2           1  NaN  female  26.0\n",
              "3           1    C  female  35.0\n",
              "4           0  NaN    male  35.0\n",
              "..        ...  ...     ...   ...\n",
              "886         0  NaN    male  27.0\n",
              "887         1    B  female  19.0\n",
              "888         0  NaN  female   NaN\n",
              "889         1    C    male  26.0\n",
              "890         0  NaN    male  32.0\n",
              "\n",
              "[891 rows x 4 columns]"
            ],
            "text/html": [
              "\n",
              "  <div id=\"df-2bb15674-ffe6-4e73-b584-5b8981a79d89\">\n",
              "    <div class=\"colab-df-container\">\n",
              "      <div>\n",
              "<style scoped>\n",
              "    .dataframe tbody tr th:only-of-type {\n",
              "        vertical-align: middle;\n",
              "    }\n",
              "\n",
              "    .dataframe tbody tr th {\n",
              "        vertical-align: top;\n",
              "    }\n",
              "\n",
              "    .dataframe thead th {\n",
              "        text-align: right;\n",
              "    }\n",
              "</style>\n",
              "<table border=\"1\" class=\"dataframe\">\n",
              "  <thead>\n",
              "    <tr style=\"text-align: right;\">\n",
              "      <th></th>\n",
              "      <th>survived</th>\n",
              "      <th>deck</th>\n",
              "      <th>sex</th>\n",
              "      <th>age</th>\n",
              "    </tr>\n",
              "  </thead>\n",
              "  <tbody>\n",
              "    <tr>\n",
              "      <th>0</th>\n",
              "      <td>0</td>\n",
              "      <td>NaN</td>\n",
              "      <td>male</td>\n",
              "      <td>22.0</td>\n",
              "    </tr>\n",
              "    <tr>\n",
              "      <th>1</th>\n",
              "      <td>1</td>\n",
              "      <td>C</td>\n",
              "      <td>female</td>\n",
              "      <td>38.0</td>\n",
              "    </tr>\n",
              "    <tr>\n",
              "      <th>2</th>\n",
              "      <td>1</td>\n",
              "      <td>NaN</td>\n",
              "      <td>female</td>\n",
              "      <td>26.0</td>\n",
              "    </tr>\n",
              "    <tr>\n",
              "      <th>3</th>\n",
              "      <td>1</td>\n",
              "      <td>C</td>\n",
              "      <td>female</td>\n",
              "      <td>35.0</td>\n",
              "    </tr>\n",
              "    <tr>\n",
              "      <th>4</th>\n",
              "      <td>0</td>\n",
              "      <td>NaN</td>\n",
              "      <td>male</td>\n",
              "      <td>35.0</td>\n",
              "    </tr>\n",
              "    <tr>\n",
              "      <th>...</th>\n",
              "      <td>...</td>\n",
              "      <td>...</td>\n",
              "      <td>...</td>\n",
              "      <td>...</td>\n",
              "    </tr>\n",
              "    <tr>\n",
              "      <th>886</th>\n",
              "      <td>0</td>\n",
              "      <td>NaN</td>\n",
              "      <td>male</td>\n",
              "      <td>27.0</td>\n",
              "    </tr>\n",
              "    <tr>\n",
              "      <th>887</th>\n",
              "      <td>1</td>\n",
              "      <td>B</td>\n",
              "      <td>female</td>\n",
              "      <td>19.0</td>\n",
              "    </tr>\n",
              "    <tr>\n",
              "      <th>888</th>\n",
              "      <td>0</td>\n",
              "      <td>NaN</td>\n",
              "      <td>female</td>\n",
              "      <td>NaN</td>\n",
              "    </tr>\n",
              "    <tr>\n",
              "      <th>889</th>\n",
              "      <td>1</td>\n",
              "      <td>C</td>\n",
              "      <td>male</td>\n",
              "      <td>26.0</td>\n",
              "    </tr>\n",
              "    <tr>\n",
              "      <th>890</th>\n",
              "      <td>0</td>\n",
              "      <td>NaN</td>\n",
              "      <td>male</td>\n",
              "      <td>32.0</td>\n",
              "    </tr>\n",
              "  </tbody>\n",
              "</table>\n",
              "<p>891 rows × 4 columns</p>\n",
              "</div>\n",
              "      <button class=\"colab-df-convert\" onclick=\"convertToInteractive('df-2bb15674-ffe6-4e73-b584-5b8981a79d89')\"\n",
              "              title=\"Convert this dataframe to an interactive table.\"\n",
              "              style=\"display:none;\">\n",
              "        \n",
              "  <svg xmlns=\"http://www.w3.org/2000/svg\" height=\"24px\"viewBox=\"0 0 24 24\"\n",
              "       width=\"24px\">\n",
              "    <path d=\"M0 0h24v24H0V0z\" fill=\"none\"/>\n",
              "    <path d=\"M18.56 5.44l.94 2.06.94-2.06 2.06-.94-2.06-.94-.94-2.06-.94 2.06-2.06.94zm-11 1L8.5 8.5l.94-2.06 2.06-.94-2.06-.94L8.5 2.5l-.94 2.06-2.06.94zm10 10l.94 2.06.94-2.06 2.06-.94-2.06-.94-.94-2.06-.94 2.06-2.06.94z\"/><path d=\"M17.41 7.96l-1.37-1.37c-.4-.4-.92-.59-1.43-.59-.52 0-1.04.2-1.43.59L10.3 9.45l-7.72 7.72c-.78.78-.78 2.05 0 2.83L4 21.41c.39.39.9.59 1.41.59.51 0 1.02-.2 1.41-.59l7.78-7.78 2.81-2.81c.8-.78.8-2.07 0-2.86zM5.41 20L4 18.59l7.72-7.72 1.47 1.35L5.41 20z\"/>\n",
              "  </svg>\n",
              "      </button>\n",
              "      \n",
              "  <style>\n",
              "    .colab-df-container {\n",
              "      display:flex;\n",
              "      flex-wrap:wrap;\n",
              "      gap: 12px;\n",
              "    }\n",
              "\n",
              "    .colab-df-convert {\n",
              "      background-color: #E8F0FE;\n",
              "      border: none;\n",
              "      border-radius: 50%;\n",
              "      cursor: pointer;\n",
              "      display: none;\n",
              "      fill: #1967D2;\n",
              "      height: 32px;\n",
              "      padding: 0 0 0 0;\n",
              "      width: 32px;\n",
              "    }\n",
              "\n",
              "    .colab-df-convert:hover {\n",
              "      background-color: #E2EBFA;\n",
              "      box-shadow: 0px 1px 2px rgba(60, 64, 67, 0.3), 0px 1px 3px 1px rgba(60, 64, 67, 0.15);\n",
              "      fill: #174EA6;\n",
              "    }\n",
              "\n",
              "    [theme=dark] .colab-df-convert {\n",
              "      background-color: #3B4455;\n",
              "      fill: #D2E3FC;\n",
              "    }\n",
              "\n",
              "    [theme=dark] .colab-df-convert:hover {\n",
              "      background-color: #434B5C;\n",
              "      box-shadow: 0px 1px 3px 1px rgba(0, 0, 0, 0.15);\n",
              "      filter: drop-shadow(0px 1px 2px rgba(0, 0, 0, 0.3));\n",
              "      fill: #FFFFFF;\n",
              "    }\n",
              "  </style>\n",
              "\n",
              "      <script>\n",
              "        const buttonEl =\n",
              "          document.querySelector('#df-2bb15674-ffe6-4e73-b584-5b8981a79d89 button.colab-df-convert');\n",
              "        buttonEl.style.display =\n",
              "          google.colab.kernel.accessAllowed ? 'block' : 'none';\n",
              "\n",
              "        async function convertToInteractive(key) {\n",
              "          const element = document.querySelector('#df-2bb15674-ffe6-4e73-b584-5b8981a79d89');\n",
              "          const dataTable =\n",
              "            await google.colab.kernel.invokeFunction('convertToInteractive',\n",
              "                                                     [key], {});\n",
              "          if (!dataTable) return;\n",
              "\n",
              "          const docLinkHtml = 'Like what you see? Visit the ' +\n",
              "            '<a target=\"_blank\" href=https://colab.research.google.com/notebooks/data_table.ipynb>data table notebook</a>'\n",
              "            + ' to learn more about interactive tables.';\n",
              "          element.innerHTML = '';\n",
              "          dataTable['output_type'] = 'display_data';\n",
              "          await google.colab.output.renderOutput(dataTable, element);\n",
              "          const docLink = document.createElement('div');\n",
              "          docLink.innerHTML = docLinkHtml;\n",
              "          element.appendChild(docLink);\n",
              "        }\n",
              "      </script>\n",
              "    </div>\n",
              "  </div>\n",
              "  "
            ]
          },
          "metadata": {},
          "execution_count": 2
        }
      ]
    },
    {
      "cell_type": "markdown",
      "source": [
        "Try Subsetting Rows\n",
        "---\n",
        "\n"
      ],
      "metadata": {
        "id": "omEbiJk1htUq"
      }
    },
    {
      "cell_type": "code",
      "source": [
        "restaurant_data.head()\n",
        "\n",
        "rainy_day = restaurant_data[restaurant_data['rain'] == \"Yes\"]\n",
        "rainy_day\n"
      ],
      "metadata": {
        "colab": {
          "base_uri": "https://localhost:8080/",
          "height": 175
        },
        "id": "CbhKiMHSgbip",
        "outputId": "25e4cb11-7581-4545-dead-8f9d181837ee"
      },
      "execution_count": 3,
      "outputs": [
        {
          "output_type": "execute_result",
          "data": {
            "text/plain": [
              "  alt  bar  fri  hun   pat price rain  res     type   est target\n",
              "5  No  Yes   No  Yes  Some    $$  Yes  Yes  Italian  0-10    Yes\n",
              "6  No  Yes   No   No  None     $  Yes   No   Burger  0-10     No\n",
              "7  No   No   No  Yes  Some    $$  Yes  Yes     Thai  0-10    Yes\n",
              "8  No  Yes  Yes   No  Full     $  Yes   No   Burger   >60     No"
            ],
            "text/html": [
              "\n",
              "  <div id=\"df-cf0e22cd-6e64-45f1-86b5-eee2b5df169c\">\n",
              "    <div class=\"colab-df-container\">\n",
              "      <div>\n",
              "<style scoped>\n",
              "    .dataframe tbody tr th:only-of-type {\n",
              "        vertical-align: middle;\n",
              "    }\n",
              "\n",
              "    .dataframe tbody tr th {\n",
              "        vertical-align: top;\n",
              "    }\n",
              "\n",
              "    .dataframe thead th {\n",
              "        text-align: right;\n",
              "    }\n",
              "</style>\n",
              "<table border=\"1\" class=\"dataframe\">\n",
              "  <thead>\n",
              "    <tr style=\"text-align: right;\">\n",
              "      <th></th>\n",
              "      <th>alt</th>\n",
              "      <th>bar</th>\n",
              "      <th>fri</th>\n",
              "      <th>hun</th>\n",
              "      <th>pat</th>\n",
              "      <th>price</th>\n",
              "      <th>rain</th>\n",
              "      <th>res</th>\n",
              "      <th>type</th>\n",
              "      <th>est</th>\n",
              "      <th>target</th>\n",
              "    </tr>\n",
              "  </thead>\n",
              "  <tbody>\n",
              "    <tr>\n",
              "      <th>5</th>\n",
              "      <td>No</td>\n",
              "      <td>Yes</td>\n",
              "      <td>No</td>\n",
              "      <td>Yes</td>\n",
              "      <td>Some</td>\n",
              "      <td>$$</td>\n",
              "      <td>Yes</td>\n",
              "      <td>Yes</td>\n",
              "      <td>Italian</td>\n",
              "      <td>0-10</td>\n",
              "      <td>Yes</td>\n",
              "    </tr>\n",
              "    <tr>\n",
              "      <th>6</th>\n",
              "      <td>No</td>\n",
              "      <td>Yes</td>\n",
              "      <td>No</td>\n",
              "      <td>No</td>\n",
              "      <td>None</td>\n",
              "      <td>$</td>\n",
              "      <td>Yes</td>\n",
              "      <td>No</td>\n",
              "      <td>Burger</td>\n",
              "      <td>0-10</td>\n",
              "      <td>No</td>\n",
              "    </tr>\n",
              "    <tr>\n",
              "      <th>7</th>\n",
              "      <td>No</td>\n",
              "      <td>No</td>\n",
              "      <td>No</td>\n",
              "      <td>Yes</td>\n",
              "      <td>Some</td>\n",
              "      <td>$$</td>\n",
              "      <td>Yes</td>\n",
              "      <td>Yes</td>\n",
              "      <td>Thai</td>\n",
              "      <td>0-10</td>\n",
              "      <td>Yes</td>\n",
              "    </tr>\n",
              "    <tr>\n",
              "      <th>8</th>\n",
              "      <td>No</td>\n",
              "      <td>Yes</td>\n",
              "      <td>Yes</td>\n",
              "      <td>No</td>\n",
              "      <td>Full</td>\n",
              "      <td>$</td>\n",
              "      <td>Yes</td>\n",
              "      <td>No</td>\n",
              "      <td>Burger</td>\n",
              "      <td>&gt;60</td>\n",
              "      <td>No</td>\n",
              "    </tr>\n",
              "  </tbody>\n",
              "</table>\n",
              "</div>\n",
              "      <button class=\"colab-df-convert\" onclick=\"convertToInteractive('df-cf0e22cd-6e64-45f1-86b5-eee2b5df169c')\"\n",
              "              title=\"Convert this dataframe to an interactive table.\"\n",
              "              style=\"display:none;\">\n",
              "        \n",
              "  <svg xmlns=\"http://www.w3.org/2000/svg\" height=\"24px\"viewBox=\"0 0 24 24\"\n",
              "       width=\"24px\">\n",
              "    <path d=\"M0 0h24v24H0V0z\" fill=\"none\"/>\n",
              "    <path d=\"M18.56 5.44l.94 2.06.94-2.06 2.06-.94-2.06-.94-.94-2.06-.94 2.06-2.06.94zm-11 1L8.5 8.5l.94-2.06 2.06-.94-2.06-.94L8.5 2.5l-.94 2.06-2.06.94zm10 10l.94 2.06.94-2.06 2.06-.94-2.06-.94-.94-2.06-.94 2.06-2.06.94z\"/><path d=\"M17.41 7.96l-1.37-1.37c-.4-.4-.92-.59-1.43-.59-.52 0-1.04.2-1.43.59L10.3 9.45l-7.72 7.72c-.78.78-.78 2.05 0 2.83L4 21.41c.39.39.9.59 1.41.59.51 0 1.02-.2 1.41-.59l7.78-7.78 2.81-2.81c.8-.78.8-2.07 0-2.86zM5.41 20L4 18.59l7.72-7.72 1.47 1.35L5.41 20z\"/>\n",
              "  </svg>\n",
              "      </button>\n",
              "      \n",
              "  <style>\n",
              "    .colab-df-container {\n",
              "      display:flex;\n",
              "      flex-wrap:wrap;\n",
              "      gap: 12px;\n",
              "    }\n",
              "\n",
              "    .colab-df-convert {\n",
              "      background-color: #E8F0FE;\n",
              "      border: none;\n",
              "      border-radius: 50%;\n",
              "      cursor: pointer;\n",
              "      display: none;\n",
              "      fill: #1967D2;\n",
              "      height: 32px;\n",
              "      padding: 0 0 0 0;\n",
              "      width: 32px;\n",
              "    }\n",
              "\n",
              "    .colab-df-convert:hover {\n",
              "      background-color: #E2EBFA;\n",
              "      box-shadow: 0px 1px 2px rgba(60, 64, 67, 0.3), 0px 1px 3px 1px rgba(60, 64, 67, 0.15);\n",
              "      fill: #174EA6;\n",
              "    }\n",
              "\n",
              "    [theme=dark] .colab-df-convert {\n",
              "      background-color: #3B4455;\n",
              "      fill: #D2E3FC;\n",
              "    }\n",
              "\n",
              "    [theme=dark] .colab-df-convert:hover {\n",
              "      background-color: #434B5C;\n",
              "      box-shadow: 0px 1px 3px 1px rgba(0, 0, 0, 0.15);\n",
              "      filter: drop-shadow(0px 1px 2px rgba(0, 0, 0, 0.3));\n",
              "      fill: #FFFFFF;\n",
              "    }\n",
              "  </style>\n",
              "\n",
              "      <script>\n",
              "        const buttonEl =\n",
              "          document.querySelector('#df-cf0e22cd-6e64-45f1-86b5-eee2b5df169c button.colab-df-convert');\n",
              "        buttonEl.style.display =\n",
              "          google.colab.kernel.accessAllowed ? 'block' : 'none';\n",
              "\n",
              "        async function convertToInteractive(key) {\n",
              "          const element = document.querySelector('#df-cf0e22cd-6e64-45f1-86b5-eee2b5df169c');\n",
              "          const dataTable =\n",
              "            await google.colab.kernel.invokeFunction('convertToInteractive',\n",
              "                                                     [key], {});\n",
              "          if (!dataTable) return;\n",
              "\n",
              "          const docLinkHtml = 'Like what you see? Visit the ' +\n",
              "            '<a target=\"_blank\" href=https://colab.research.google.com/notebooks/data_table.ipynb>data table notebook</a>'\n",
              "            + ' to learn more about interactive tables.';\n",
              "          element.innerHTML = '';\n",
              "          dataTable['output_type'] = 'display_data';\n",
              "          await google.colab.output.renderOutput(dataTable, element);\n",
              "          const docLink = document.createElement('div');\n",
              "          docLink.innerHTML = docLinkHtml;\n",
              "          element.appendChild(docLink);\n",
              "        }\n",
              "      </script>\n",
              "    </div>\n",
              "  </div>\n",
              "  "
            ]
          },
          "metadata": {},
          "execution_count": 3
        }
      ]
    },
    {
      "cell_type": "markdown",
      "source": [
        "Try: Subsetting by Rows and Columns\n",
        "---\n",
        "---\n",
        "\n",
        "Let's imagine we want a subset that contains the names and ages of people who did not survive the Titanic.\n",
        "\n",
        "Techincally, you have the knowledge now to be able to do this, if you just break it up into two steps:\n",
        "\n",
        "1. make a subset, `victims`, of rows where `survived == 0`\n",
        "2. use `victims` to create a second subset that only contains the `age` column.\n"
      ],
      "metadata": {
        "id": "zdeWdWB8kjAY"
      }
    },
    {
      "cell_type": "code",
      "source": [
        "# Create the victims subset and view it\n",
        "victims = titanic[titanic['survived'] == 0]\n",
        "victims\n",
        "\n",
        "# Create second subset that only takes the ages of titanic victims\n",
        "victims_age = victims['age']\n",
        "# Print out the ages of victims\n",
        "victims_age\n"
      ],
      "metadata": {
        "colab": {
          "base_uri": "https://localhost:8080/"
        },
        "id": "NIobqdPVkn7B",
        "outputId": "823f9c7f-8145-49bb-c03c-df08e765acad"
      },
      "execution_count": 4,
      "outputs": [
        {
          "output_type": "execute_result",
          "data": {
            "text/plain": [
              "0      22.0\n",
              "4      35.0\n",
              "5       NaN\n",
              "6      54.0\n",
              "7       2.0\n",
              "       ... \n",
              "884    25.0\n",
              "885    39.0\n",
              "886    27.0\n",
              "888     NaN\n",
              "890    32.0\n",
              "Name: age, Length: 549, dtype: float64"
            ]
          },
          "metadata": {},
          "execution_count": 4
        }
      ]
    },
    {
      "cell_type": "markdown",
      "source": [
        "# Part Two: Pandas Exercises\n",
        "---\n",
        "\n",
        "Follow-up exercises to get familiar utilizing Pandas and Python. "
      ],
      "metadata": {
        "id": "v3UDZhxAox4M"
      }
    },
    {
      "cell_type": "code",
      "source": [
        "# what is the data type of titanic?\n",
        "print(\"data is a\", type(titanic))\n",
        "\n",
        "# data type is pandas.core.frame.DataFrame -- or just a DataFrame"
      ],
      "metadata": {
        "colab": {
          "base_uri": "https://localhost:8080/"
        },
        "id": "zzDK3ctnqkjj",
        "outputId": "10d1494b-6053-40b4-ff93-8a640c3bf2eb"
      },
      "execution_count": 5,
      "outputs": [
        {
          "output_type": "stream",
          "name": "stdout",
          "text": [
            "data is a <class 'pandas.core.frame.DataFrame'>\n"
          ]
        }
      ]
    },
    {
      "cell_type": "code",
      "source": [
        "# what are the features (column titles) of the titanic dataset?\n",
        "\n",
        "titanic.columns"
      ],
      "metadata": {
        "colab": {
          "base_uri": "https://localhost:8080/"
        },
        "id": "YtpogCliqoXv",
        "outputId": "c64cd3d3-4f0f-4484-ec31-96b29ced5f5b"
      },
      "execution_count": 6,
      "outputs": [
        {
          "output_type": "execute_result",
          "data": {
            "text/plain": [
              "Index(['survived', 'pclass', 'sex', 'age', 'sibsp', 'parch', 'fare',\n",
              "       'embarked', 'class', 'who', 'adult_male', 'deck', 'embark_town',\n",
              "       'alive', 'alone'],\n",
              "      dtype='object')"
            ]
          },
          "metadata": {},
          "execution_count": 6
        }
      ]
    },
    {
      "cell_type": "code",
      "source": [
        "# display only the 'embark_town' column of the titanic data\n",
        "print(titanic['embark_town'])"
      ],
      "metadata": {
        "colab": {
          "base_uri": "https://localhost:8080/"
        },
        "id": "ceL8sHCpqr4L",
        "outputId": "46cb8ad9-bc0e-4243-9c9f-e97ae467c5a2"
      },
      "execution_count": 7,
      "outputs": [
        {
          "output_type": "stream",
          "name": "stdout",
          "text": [
            "0      Southampton\n",
            "1        Cherbourg\n",
            "2      Southampton\n",
            "3      Southampton\n",
            "4      Southampton\n",
            "          ...     \n",
            "886    Southampton\n",
            "887    Southampton\n",
            "888    Southampton\n",
            "889      Cherbourg\n",
            "890     Queenstown\n",
            "Name: embark_town, Length: 891, dtype: object\n"
          ]
        }
      ]
    },
    {
      "cell_type": "code",
      "source": [
        "# what is the data type of the result of the previous cell? \n",
        "# Series"
      ],
      "metadata": {
        "id": "t1cCCcunqvTR"
      },
      "execution_count": 8,
      "outputs": []
    },
    {
      "cell_type": "code",
      "source": [
        "# what is the \"shape\" of the data frame?\n",
        "titanic.shape\n",
        "\n",
        "# dataset 'shape' is 891 rows by 15 columns"
      ],
      "metadata": {
        "colab": {
          "base_uri": "https://localhost:8080/"
        },
        "id": "jvaOh8WfqxHz",
        "outputId": "d613809d-0e74-40ef-acad-17cb70c7951d"
      },
      "execution_count": 9,
      "outputs": [
        {
          "output_type": "execute_result",
          "data": {
            "text/plain": [
              "(891, 15)"
            ]
          },
          "metadata": {},
          "execution_count": 9
        }
      ]
    },
    {
      "cell_type": "code",
      "source": [
        "# make a subset (call the variable 'subset') of the data that consists of the last 20 rows of the data;\n",
        "# verify that your subset has 20 rows\n",
        "\n",
        "subset = titanic[871:]\n",
        "print(subset)\n",
        "print(subset.shape)"
      ],
      "metadata": {
        "colab": {
          "base_uri": "https://localhost:8080/"
        },
        "id": "XV33rW8XqyKf",
        "outputId": "6292accb-bd6f-40dd-ef91-e00c926b43fe"
      },
      "execution_count": 10,
      "outputs": [
        {
          "output_type": "stream",
          "name": "stdout",
          "text": [
            "     survived  pclass     sex   age  sibsp  parch     fare embarked   class  \\\n",
            "871         1       1  female  47.0      1      1  52.5542        S   First   \n",
            "872         0       1    male  33.0      0      0   5.0000        S   First   \n",
            "873         0       3    male  47.0      0      0   9.0000        S   Third   \n",
            "874         1       2  female  28.0      1      0  24.0000        C  Second   \n",
            "875         1       3  female  15.0      0      0   7.2250        C   Third   \n",
            "876         0       3    male  20.0      0      0   9.8458        S   Third   \n",
            "877         0       3    male  19.0      0      0   7.8958        S   Third   \n",
            "878         0       3    male   NaN      0      0   7.8958        S   Third   \n",
            "879         1       1  female  56.0      0      1  83.1583        C   First   \n",
            "880         1       2  female  25.0      0      1  26.0000        S  Second   \n",
            "881         0       3    male  33.0      0      0   7.8958        S   Third   \n",
            "882         0       3  female  22.0      0      0  10.5167        S   Third   \n",
            "883         0       2    male  28.0      0      0  10.5000        S  Second   \n",
            "884         0       3    male  25.0      0      0   7.0500        S   Third   \n",
            "885         0       3  female  39.0      0      5  29.1250        Q   Third   \n",
            "886         0       2    male  27.0      0      0  13.0000        S  Second   \n",
            "887         1       1  female  19.0      0      0  30.0000        S   First   \n",
            "888         0       3  female   NaN      1      2  23.4500        S   Third   \n",
            "889         1       1    male  26.0      0      0  30.0000        C   First   \n",
            "890         0       3    male  32.0      0      0   7.7500        Q   Third   \n",
            "\n",
            "       who  adult_male deck  embark_town alive  alone  \n",
            "871  woman       False    D  Southampton   yes  False  \n",
            "872    man        True    B  Southampton    no   True  \n",
            "873    man        True  NaN  Southampton    no   True  \n",
            "874  woman       False  NaN    Cherbourg   yes  False  \n",
            "875  child       False  NaN    Cherbourg   yes   True  \n",
            "876    man        True  NaN  Southampton    no   True  \n",
            "877    man        True  NaN  Southampton    no   True  \n",
            "878    man        True  NaN  Southampton    no   True  \n",
            "879  woman       False    C    Cherbourg   yes  False  \n",
            "880  woman       False  NaN  Southampton   yes  False  \n",
            "881    man        True  NaN  Southampton    no   True  \n",
            "882  woman       False  NaN  Southampton    no   True  \n",
            "883    man        True  NaN  Southampton    no   True  \n",
            "884    man        True  NaN  Southampton    no   True  \n",
            "885  woman       False  NaN   Queenstown    no  False  \n",
            "886    man        True  NaN  Southampton    no   True  \n",
            "887  woman       False    B  Southampton   yes   True  \n",
            "888  woman       False  NaN  Southampton    no  False  \n",
            "889    man        True    C    Cherbourg   yes   True  \n",
            "890    man        True  NaN   Queenstown    no   True  \n",
            "(20, 15)\n"
          ]
        }
      ]
    },
    {
      "cell_type": "code",
      "source": [
        "# use loc to print out the data for passenger 890 on the titanic dataframe\n",
        "titanic.loc[890]\n",
        "# use iloc to print out the data for passenger 890 on the subest dataframe\n",
        "titanic.iloc[890]\n"
      ],
      "metadata": {
        "colab": {
          "base_uri": "https://localhost:8080/"
        },
        "id": "K26lm-VduVsQ",
        "outputId": "0cbb9f25-b55c-4c30-da89-18aa8241dd6c"
      },
      "execution_count": 13,
      "outputs": [
        {
          "output_type": "execute_result",
          "data": {
            "text/plain": [
              "survived                0\n",
              "pclass                  3\n",
              "sex                  male\n",
              "age                  32.0\n",
              "sibsp                   0\n",
              "parch                   0\n",
              "fare                 7.75\n",
              "embarked                Q\n",
              "class               Third\n",
              "who                   man\n",
              "adult_male           True\n",
              "deck                  NaN\n",
              "embark_town    Queenstown\n",
              "alive                  no\n",
              "alone                True\n",
              "Name: 890, dtype: object"
            ]
          },
          "metadata": {},
          "execution_count": 13
        }
      ]
    },
    {
      "cell_type": "markdown",
      "source": [
        "#### use a markdown cell; describe the difference between loc and iloc\n",
        "---\n",
        "\n",
        "- `loc` | This refers to rows and columns by their labels/names, and in this case 890 is the name of the row.\n",
        "- `iloc` | This refers to rows and columns by their index/relative position in the dataset, and 890 refers to row 890. "
      ],
      "metadata": {
        "id": "KLqaxMibvA8o"
      }
    },
    {
      "cell_type": "code",
      "source": [
        "# create a subset of the data (call the variable 'queenstown_subset') that consists only of passengers with\n",
        "# a 'embark_town' that is \"Queenstown\"\n",
        "# hint: if you get a warning, you may need to explicitly note that you are making a copy of the original data by using \n",
        "# the .copy() function\n",
        "\n",
        "queenstown_subset = titanic[titanic['embark_town'] == \"Queenstown\"]\n",
        "print(queenstown_subset)\n"
      ],
      "metadata": {
        "colab": {
          "base_uri": "https://localhost:8080/"
        },
        "id": "zk5PIwQtrYiS",
        "outputId": "ebe009be-e73b-43eb-9ae4-4e4064ac9b26"
      },
      "execution_count": 14,
      "outputs": [
        {
          "output_type": "stream",
          "name": "stdout",
          "text": [
            "     survived  pclass     sex   age  sibsp  parch     fare embarked  class  \\\n",
            "5           0       3    male   NaN      0      0   8.4583        Q  Third   \n",
            "16          0       3    male   2.0      4      1  29.1250        Q  Third   \n",
            "22          1       3  female  15.0      0      0   8.0292        Q  Third   \n",
            "28          1       3  female   NaN      0      0   7.8792        Q  Third   \n",
            "32          1       3  female   NaN      0      0   7.7500        Q  Third   \n",
            "..        ...     ...     ...   ...    ...    ...      ...      ...    ...   \n",
            "790         0       3    male   NaN      0      0   7.7500        Q  Third   \n",
            "825         0       3    male   NaN      0      0   6.9500        Q  Third   \n",
            "828         1       3    male   NaN      0      0   7.7500        Q  Third   \n",
            "885         0       3  female  39.0      0      5  29.1250        Q  Third   \n",
            "890         0       3    male  32.0      0      0   7.7500        Q  Third   \n",
            "\n",
            "       who  adult_male deck embark_town alive  alone  \n",
            "5      man        True  NaN  Queenstown    no   True  \n",
            "16   child       False  NaN  Queenstown    no  False  \n",
            "22   child       False  NaN  Queenstown   yes   True  \n",
            "28   woman       False  NaN  Queenstown   yes   True  \n",
            "32   woman       False  NaN  Queenstown   yes   True  \n",
            "..     ...         ...  ...         ...   ...    ...  \n",
            "790    man        True  NaN  Queenstown    no   True  \n",
            "825    man        True  NaN  Queenstown    no   True  \n",
            "828    man        True  NaN  Queenstown   yes   True  \n",
            "885  woman       False  NaN  Queenstown    no  False  \n",
            "890    man        True  NaN  Queenstown    no   True  \n",
            "\n",
            "[77 rows x 15 columns]\n"
          ]
        }
      ]
    },
    {
      "cell_type": "code",
      "source": [
        "# how many passengers are in queenstown_subset?\n",
        "queenstown_subset.shape[0]"
      ],
      "metadata": {
        "colab": {
          "base_uri": "https://localhost:8080/"
        },
        "id": "gAjobrMBwJ95",
        "outputId": "e068bf67-94ec-431b-d9b4-a96d1c07d45c"
      },
      "execution_count": 15,
      "outputs": [
        {
          "output_type": "execute_result",
          "data": {
            "text/plain": [
              "77"
            ]
          },
          "metadata": {},
          "execution_count": 15
        }
      ]
    },
    {
      "cell_type": "code",
      "source": [
        "# what is the average age for all of those in the queenstown_subset?\n",
        "# do all of the passengers have an age recorded? What is recorded if there is no age?\n",
        "\n",
        "queenstown_subset['age'].mean()"
      ],
      "metadata": {
        "colab": {
          "base_uri": "https://localhost:8080/"
        },
        "id": "Bd9kve7UwMgH",
        "outputId": "2b918b8d-7dbd-4b04-ab03-0580189b15d3"
      },
      "execution_count": 16,
      "outputs": [
        {
          "output_type": "execute_result",
          "data": {
            "text/plain": [
              "28.089285714285715"
            ]
          },
          "metadata": {},
          "execution_count": 16
        }
      ]
    },
    {
      "cell_type": "code",
      "source": [
        "# What does unique(), mean(), isnull(), and fillna() do? Use a markdown cell to write your answers\n",
        "# Use the Pandas documentation (https://pandas.pydata.org/pandas-docs/stable/reference/index.html)\n"
      ],
      "metadata": {
        "id": "dgAXOwFwwMws"
      },
      "execution_count": 25,
      "outputs": []
    },
    {
      "cell_type": "markdown",
      "source": [
        "- `unique()` this will show all the unique or different results.\n",
        "- `mean()` this gives the mean/average for a specified column.\n",
        "- `isnull()` this gives a `True` / `False` value for the specified column.\n",
        "- `fillna()` "
      ],
      "metadata": {
        "id": "I7vgqgnPxs9W"
      }
    },
    {
      "cell_type": "code",
      "source": [
        "# what is the average fare for all of those in the queenstown_subset?\n",
        "\n",
        "mean_fare = queenstown_subset['fare'].mean()\n",
        "print(mean_fare)"
      ],
      "metadata": {
        "id": "cU9SDOhCwkBp",
        "colab": {
          "base_uri": "https://localhost:8080/"
        },
        "outputId": "c4ae81e9-5071-45d2-ea86-ec4fb85b2a76"
      },
      "execution_count": 22,
      "outputs": [
        {
          "output_type": "stream",
          "name": "stdout",
          "text": [
            "13.276029870129872\n"
          ]
        }
      ]
    },
    {
      "cell_type": "code",
      "source": [
        "# give examples of your use of unique(), mean(), median(), isnull()\n",
        "\n",
        "# Unique \n",
        "print(queenstown_subset['class'].unique())\n",
        "\n",
        "# Mean\n",
        "print(queenstown_subset['age'].mean())\n",
        "# The mean age of people from Queenstown on the Titanic was around 28 years old.\n",
        "\n",
        "# Median\n",
        "print(queenstown_subset['fare'].median())\n",
        "# The median fare paid was around $7.25\n",
        "\n",
        "# Is Null\n",
        "print(queenstown_subset['sex'].isnull())\n"
      ],
      "metadata": {
        "id": "uTsXbYGGwmIl",
        "colab": {
          "base_uri": "https://localhost:8080/"
        },
        "outputId": "8420e847-2549-4947-b3ea-cb053c778b75"
      },
      "execution_count": 31,
      "outputs": [
        {
          "output_type": "stream",
          "name": "stdout",
          "text": [
            "['Third' 'First' 'Second']\n",
            "28.089285714285715\n",
            "7.75\n",
            "5      False\n",
            "16     False\n",
            "22     False\n",
            "28     False\n",
            "32     False\n",
            "       ...  \n",
            "790    False\n",
            "825    False\n",
            "828    False\n",
            "885    False\n",
            "890    False\n",
            "Name: sex, Length: 77, dtype: bool\n"
          ]
        }
      ]
    },
    {
      "cell_type": "code",
      "source": [
        "# in the queenstown_subet dataframe\n",
        "# for each row that does not have an age recorded, replace the NaN value with the calculated average\n",
        "# hint: don't use a loop; it can be done in 1 line of code using fillna()\n",
        "\n",
        "queenstown_subset['age'].fillna(queenstown_subset['age'].mean())"
      ],
      "metadata": {
        "id": "HtJDLT_WwoLi",
        "colab": {
          "base_uri": "https://localhost:8080/"
        },
        "outputId": "83f8ce54-2ad9-4de4-cc4b-ca666bb6422c"
      },
      "execution_count": 32,
      "outputs": [
        {
          "output_type": "execute_result",
          "data": {
            "text/plain": [
              "5      28.089286\n",
              "16      2.000000\n",
              "22     15.000000\n",
              "28     28.089286\n",
              "32     28.089286\n",
              "         ...    \n",
              "790    28.089286\n",
              "825    28.089286\n",
              "828    28.089286\n",
              "885    39.000000\n",
              "890    32.000000\n",
              "Name: age, Length: 77, dtype: float64"
            ]
          },
          "metadata": {},
          "execution_count": 32
        }
      ]
    },
    {
      "cell_type": "code",
      "source": [
        "# load in the iris data\n",
        "path2 = '/content/drive/MyDrive/JTerm2023/datasets/irisData.csv'\n",
        "\n",
        "iris = pd.read_csv(path2)\n",
        "print(\"data is a \", type(iris))\n",
        "\n",
        "print(iris)\n",
        "# what is the median sepal width of just the Setosas?\n",
        "\n",
        "setosa_subset = iris[(iris.species == 'Iris-setosa')]\n",
        "print(setosa_subset)\n",
        "print(\"The median sepal width of the iris-setosa is\", setosa_subset['sepal width'].median())"
      ],
      "metadata": {
        "id": "bzpigPHQwqMU",
        "colab": {
          "base_uri": "https://localhost:8080/"
        },
        "outputId": "c2d1d57f-0ff2-4420-9112-01e602d3ffb3"
      },
      "execution_count": 45,
      "outputs": [
        {
          "output_type": "stream",
          "name": "stdout",
          "text": [
            "data is a  <class 'pandas.core.frame.DataFrame'>\n",
            "     sepal length  sepal width  petal length  petal width         species\n",
            "0             5.1          3.5           1.4          0.2     Iris-setosa\n",
            "1             4.9          3.0           1.4          0.2     Iris-setosa\n",
            "2             4.7          3.2           1.3          0.2     Iris-setosa\n",
            "3             4.6          3.1           1.5          0.2     Iris-setosa\n",
            "4             5.0          3.6           1.4          0.2     Iris-setosa\n",
            "..            ...          ...           ...          ...             ...\n",
            "145           6.7          3.0           5.2          2.3  Iris-virginica\n",
            "146           6.3          2.5           5.0          1.9  Iris-virginica\n",
            "147           6.5          3.0           5.2          2.0  Iris-virginica\n",
            "148           6.2          3.4           5.4          2.3  Iris-virginica\n",
            "149           5.9          3.0           5.1          1.8  Iris-virginica\n",
            "\n",
            "[150 rows x 5 columns]\n",
            "    sepal length  sepal width  petal length  petal width      species\n",
            "0            5.1          3.5           1.4          0.2  Iris-setosa\n",
            "1            4.9          3.0           1.4          0.2  Iris-setosa\n",
            "2            4.7          3.2           1.3          0.2  Iris-setosa\n",
            "3            4.6          3.1           1.5          0.2  Iris-setosa\n",
            "4            5.0          3.6           1.4          0.2  Iris-setosa\n",
            "5            5.4          3.9           1.7          0.4  Iris-setosa\n",
            "6            4.6          3.4           1.4          0.3  Iris-setosa\n",
            "7            5.0          3.4           1.5          0.2  Iris-setosa\n",
            "8            4.4          2.9           1.4          0.2  Iris-setosa\n",
            "9            4.9          3.1           1.5          0.1  Iris-setosa\n",
            "10           5.4          3.7           1.5          0.2  Iris-setosa\n",
            "11           4.8          3.4           1.6          0.2  Iris-setosa\n",
            "12           4.8          3.0           1.4          0.1  Iris-setosa\n",
            "13           4.3          3.0           1.1          0.1  Iris-setosa\n",
            "14           5.8          4.0           1.2          0.2  Iris-setosa\n",
            "15           5.7          4.4           1.5          0.4  Iris-setosa\n",
            "16           5.4          3.9           1.3          0.4  Iris-setosa\n",
            "17           5.1          3.5           1.4          0.3  Iris-setosa\n",
            "18           5.7          3.8           1.7          0.3  Iris-setosa\n",
            "19           5.1          3.8           1.5          0.3  Iris-setosa\n",
            "20           5.4          3.4           1.7          0.2  Iris-setosa\n",
            "21           5.1          3.7           1.5          0.4  Iris-setosa\n",
            "22           4.6          3.6           1.0          0.2  Iris-setosa\n",
            "23           5.1          3.3           1.7          0.5  Iris-setosa\n",
            "24           4.8          3.4           1.9          0.2  Iris-setosa\n",
            "25           5.0          3.0           1.6          0.2  Iris-setosa\n",
            "26           5.0          3.4           1.6          0.4  Iris-setosa\n",
            "27           5.2          3.5           1.5          0.2  Iris-setosa\n",
            "28           5.2          3.4           1.4          0.2  Iris-setosa\n",
            "29           4.7          3.2           1.6          0.2  Iris-setosa\n",
            "30           4.8          3.1           1.6          0.2  Iris-setosa\n",
            "31           5.4          3.4           1.5          0.4  Iris-setosa\n",
            "32           5.2          4.1           1.5          0.1  Iris-setosa\n",
            "33           5.5          4.2           1.4          0.2  Iris-setosa\n",
            "34           4.9          3.1           1.5          0.1  Iris-setosa\n",
            "35           5.0          3.2           1.2          0.2  Iris-setosa\n",
            "36           5.5          3.5           1.3          0.2  Iris-setosa\n",
            "37           4.9          3.1           1.5          0.1  Iris-setosa\n",
            "38           4.4          3.0           1.3          0.2  Iris-setosa\n",
            "39           5.1          3.4           1.5          0.2  Iris-setosa\n",
            "40           5.0          3.5           1.3          0.3  Iris-setosa\n",
            "41           4.5          2.3           1.3          0.3  Iris-setosa\n",
            "42           4.4          3.2           1.3          0.2  Iris-setosa\n",
            "43           5.0          3.5           1.6          0.6  Iris-setosa\n",
            "44           5.1          3.8           1.9          0.4  Iris-setosa\n",
            "45           4.8          3.0           1.4          0.3  Iris-setosa\n",
            "46           5.1          3.8           1.6          0.2  Iris-setosa\n",
            "47           4.6          3.2           1.4          0.2  Iris-setosa\n",
            "48           5.3          3.7           1.5          0.2  Iris-setosa\n",
            "49           5.0          3.3           1.4          0.2  Iris-setosa\n",
            "The median sepal width of the iris-setosa is 3.4\n"
          ]
        }
      ]
    },
    {
      "cell_type": "code",
      "source": [
        "# for those iris that are classified as versicolor and have \n",
        "# a petal-length > 4, what is the average sepal width?\n",
        "print(iris['species'].unique())\n",
        "\n",
        "versicolor = iris[(iris['species'] == 'Iris-versicolor') & (iris['petal length'] > 4)]\n",
        "\n",
        "print(\"The average sepal width in this subset is \", versicolor['sepal width'].mean(), \"or around 2.9.\")\n"
      ],
      "metadata": {
        "id": "P4-IOXTEwrQz",
        "colab": {
          "base_uri": "https://localhost:8080/"
        },
        "outputId": "c1fd5040-241d-484a-ecc1-0627e808c588"
      },
      "execution_count": 55,
      "outputs": [
        {
          "output_type": "stream",
          "name": "stdout",
          "text": [
            "['Iris-setosa' 'Iris-versicolor' 'Iris-virginica']\n",
            "The average sepal width in this subset is  2.902941176470588 or around 2.9.\n"
          ]
        }
      ]
    }
  ]
}